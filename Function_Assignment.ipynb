{
 "cells": [
  {
   "cell_type": "markdown",
   "metadata": {},
   "source": [
    "# 1. What is the difference between a function and a method in Python?"
   ]
  },
  {
   "cell_type": "markdown",
   "metadata": {},
   "source": [
    "### Function\n",
    "\n",
    "> A function is a block of reusable code that performs specific task and can be called independently.\n",
    "\n",
    "> Function are defined using the 'def' Keyword.\n",
    "\n",
    "> Functions can be difined outside of classes and can be called by their name, with or without arguments."
   ]
  },
  {
   "cell_type": "code",
   "execution_count": 5,
   "metadata": {},
   "outputs": [
    {
     "name": "stdout",
     "output_type": "stream",
     "text": [
      "Hello, Veliston!\n",
      "Hello, Rocha!\n",
      "Hello, Rodrigues!\n"
     ]
    }
   ],
   "source": [
    "# Example:\n",
    "\n",
    "def greet(name): # parameter\n",
    "    return f\"Hello, {name}!\"\n",
    "\n",
    "# calling or invokig function\n",
    "# u can call function as many times\n",
    "Person1 = greet(\"Veliston\")# argument\n",
    "Person2 = greet(\"Rocha\")\n",
    "Person3 = greet(\"Rodrigues\")\n",
    "\n",
    "print(Person1)\n",
    "print(Person2)\n",
    "print(Person3)"
   ]
  },
  {
   "cell_type": "markdown",
   "metadata": {},
   "source": [
    "### Method\n",
    "\n",
    "> A method is a function that is associated with an object or class. It operates on the data within the class. (object or instance)\n",
    "\n",
    ">Methods are defined within a class and usually take ' self ' as their parameter to acsess the instance of the class.\n",
    "\n",
    "> Methods are called on an instance of a class or on the class itself"
   ]
  },
  {
   "cell_type": "code",
   "execution_count": 7,
   "metadata": {},
   "outputs": [
    {
     "name": "stdout",
     "output_type": "stream",
     "text": [
      "Hello, Veliston!\n"
     ]
    }
   ],
   "source": [
    "# Example:\n",
    "\n",
    "class Greeter:\n",
    "    def __init__(self, name): # called automaticaly\n",
    "        self.name = name\n",
    "\n",
    "    def greet(self): # called maually\n",
    "        return f\"Hello, {self.name}!\"\n",
    "\n",
    "g = Greeter(\"Veliston\")\n",
    "print(g.greet())  \n",
    "\n",
    "# greeter is class\n",
    "# __init__ and greet are methods\n",
    "# name is attribute\n"
   ]
  },
  {
   "cell_type": "markdown",
   "metadata": {},
   "source": [
    "# 2. Explain the concept of function arguments and parameters in python.**"
   ]
  },
  {
   "cell_type": "markdown",
   "metadata": {},
   "source": [
    "### Parameters\n",
    "\n",
    "> Parameters are variables listed in a function's definition that act as placeholders for the values that will be passed to the function when it is called.\n",
    "\n",
    "> They define what kind of values the function expects to receive."
   ]
  },
  {
   "cell_type": "code",
   "execution_count": 9,
   "metadata": {},
   "outputs": [],
   "source": [
    "# example:\n",
    "\n",
    "def add(a, b):\n",
    "    return a + b\n",
    "\n",
    "# a and b are parameters of the ' add ' function"
   ]
  },
  {
   "cell_type": "markdown",
   "metadata": {},
   "source": [
    "### Arguments\n",
    "\n",
    "> Arguments are the actual values or expressions passed to a function when it is called. They are assigned to the corresponding parameters in the function definition.\n",
    "\n",
    "> They provide the actual data for the function to work with."
   ]
  },
  {
   "cell_type": "code",
   "execution_count": 10,
   "metadata": {},
   "outputs": [],
   "source": [
    "# example:\n",
    "\n",
    "result = add(5,3)\n",
    "\n",
    "# 5 and 3 are arguments passed to the ' add ' function.\n",
    "# They are assigned to the parameters a and b respectively."
   ]
  },
  {
   "cell_type": "markdown",
   "metadata": {},
   "source": [
    "# 3. What are the differnt ways to define and call a function in Python?"
   ]
  },
  {
   "cell_type": "markdown",
   "metadata": {},
   "source": [
    "### Defining and Calling a Standard Function\n",
    "\n",
    "> using def keyword to define a function with a specific name and parameters.\n",
    "\n",
    "> after that calling or invoking the function with arguments."
   ]
  },
  {
   "cell_type": "code",
   "execution_count": 11,
   "metadata": {},
   "outputs": [
    {
     "name": "stdout",
     "output_type": "stream",
     "text": [
      "Hello, Veliston Rocha!\n"
     ]
    }
   ],
   "source": [
    "# Defining\n",
    "def greet(name):\n",
    "    return f\"Hello, {name}!\"\n",
    "\n",
    "# Calling\n",
    "print(greet(\"Veliston Rocha\"))"
   ]
  },
  {
   "cell_type": "markdown",
   "metadata": {},
   "source": [
    "### Lambda Functions\n",
    "\n",
    "> Lambda functions are small, unknown functions defined using the 'lambda' keyword. often used for short fuctions.\n",
    "\n",
    "> calling with arguments"
   ]
  },
  {
   "cell_type": "code",
   "execution_count": 13,
   "metadata": {},
   "outputs": [
    {
     "name": "stdout",
     "output_type": "stream",
     "text": [
      "8\n"
     ]
    }
   ],
   "source": [
    "# defining\n",
    "add = lambda x, y: x + y\n",
    "\n",
    "# calling\n",
    "print(add(5, 3)) \n"
   ]
  },
  {
   "cell_type": "markdown",
   "metadata": {},
   "source": [
    "### Functions with Default Arguments\n",
    "\n",
    "> Functions that have default values for some parameters. If no argument is provided the default value is used.\n",
    "\n",
    "> u can omit or dont provide argument that have default values."
   ]
  },
  {
   "cell_type": "code",
   "execution_count": 15,
   "metadata": {},
   "outputs": [
    {
     "name": "stdout",
     "output_type": "stream",
     "text": [
      "Hello, Person!\n",
      "Hello, Veliston!\n"
     ]
    }
   ],
   "source": [
    "def greet(name=\"Person\"):\n",
    "    return f\"Hello, {name}!\"\n",
    "\n",
    "print(greet())         # Uses default parameter argument\n",
    "print(greet(\"Veliston\"))   # Uses provided parameter argument\n",
    "\n"
   ]
  },
  {
   "cell_type": "markdown",
   "metadata": {},
   "source": [
    "### Variable-Length Arguments\n",
    "\n",
    "> These allow you to pass a variable number of arguments to a function.\n",
    "\n",
    "> *args: Collects positional arguments into a tuple.\n",
    "\n",
    "> **kwargs: Collects keyword arguments into a dictionary."
   ]
  },
  {
   "cell_type": "code",
   "execution_count": 16,
   "metadata": {},
   "outputs": [
    {
     "name": "stdout",
     "output_type": "stream",
     "text": [
      "10\n",
      "{'name': 'Veliston', 'age': 21}\n"
     ]
    }
   ],
   "source": [
    "# args\n",
    "def summarize(*args):\n",
    "    return sum(args)\n",
    "\n",
    "# kwargs\n",
    "def describe(**kwargs):\n",
    "    return kwargs\n",
    "\n",
    "print(summarize(1, 2, 3, 4)) \n",
    "print(describe(name=\"Veliston\", age=21))"
   ]
  },
  {
   "cell_type": "code",
   "execution_count": 17,
   "metadata": {},
   "outputs": [
    {
     "name": "stdout",
     "output_type": "stream",
     "text": [
      "Hello Veliston, you are 28 years old.\n",
      "Hello Rocha, you are 20 years old.\n"
     ]
    }
   ],
   "source": [
    "# Positional Arguments:\n",
    "\n",
    "def greet(name, age):\n",
    "    return f\"Hello {name}, you are {age} years old.\"\n",
    "\n",
    "print(greet(\"Veliston\", 28))\n",
    "\n",
    "# Keyword Arguments:\n",
    "\n",
    "print(greet(age=20, name=\"Rocha\")) "
   ]
  },
  {
   "cell_type": "code",
   "execution_count": 18,
   "metadata": {},
   "outputs": [
    {
     "name": "stdout",
     "output_type": "stream",
     "text": [
      "9\n"
     ]
    }
   ],
   "source": [
    "#  Function Expressions\n",
    "\n",
    "# functions can be assigned to variables\n",
    "\n",
    "def add(x, y):\n",
    "    return x + y\n",
    "\n",
    "# assifning function to variable\n",
    "operation = add\n",
    "\n",
    "print(operation(4, 5))\n"
   ]
  },
  {
   "cell_type": "markdown",
   "metadata": {},
   "source": [
    "### Nested Functions\n",
    "\n",
    "> Functions defined inside other functions. They can access variables from the enclosing function.\n"
   ]
  },
  {
   "cell_type": "code",
   "execution_count": 19,
   "metadata": {},
   "outputs": [
    {
     "name": "stdout",
     "output_type": "stream",
     "text": [
      "15\n"
     ]
    }
   ],
   "source": [
    "def outer_function(x): # oter\n",
    "    def inner_function(y): # inner\n",
    "        return x + y\n",
    "    return inner_function\n",
    "\n",
    "# calling\n",
    "func = outer_function(10)\n",
    "print(func(5))"
   ]
  },
  {
   "cell_type": "markdown",
   "metadata": {},
   "source": [
    "# 4. What is the purpose of the ' return ' statement in a python function?"
   ]
  },
  {
   "cell_type": "markdown",
   "metadata": {},
   "source": [
    "> The '  return  ' statement is used in a function to send a value back to the caller of the function. "
   ]
  },
  {
   "cell_type": "code",
   "execution_count": 23,
   "metadata": {},
   "outputs": [
    {
     "name": "stdout",
     "output_type": "stream",
     "text": [
      "8\n",
      "<class 'int'>\n"
     ]
    }
   ],
   "source": [
    "# example:\n",
    "\n",
    "def add_numbers(a, b):\n",
    "    result = a + b\n",
    "    return result #  with return statement\n",
    "\n",
    "sum_value = add_numbers(5, 3)\n",
    "print(sum_value)\n",
    "print(type(sum_value))"
   ]
  },
  {
   "cell_type": "code",
   "execution_count": 26,
   "metadata": {},
   "outputs": [
    {
     "name": "stdout",
     "output_type": "stream",
     "text": [
      "8\n",
      "None\n",
      "<class 'NoneType'>\n"
     ]
    }
   ],
   "source": [
    "# example\n",
    "# without return value\n",
    "\n",
    "def add_numbers(a, b):\n",
    "    result = a + b\n",
    "    print(result)\n",
    "\n",
    "sum_value = add_numbers(5, 3)\n",
    "print(sum_value)\n",
    "print(type(sum_value))\n",
    "\n",
    "# without return staement it return None"
   ]
  },
  {
   "cell_type": "markdown",
   "metadata": {},
   "source": [
    "# 5. What are iteration in Python and how do they differ from iterables?"
   ]
  },
  {
   "cell_type": "markdown",
   "metadata": {},
   "source": [
    "### Iterable:\n",
    "\n",
    "> An object that can return an iterator. Examples include lists, tuples, strings, dictionaries, and sets.\n",
    "\n",
    "> Must implement __iter__() method which returns an iterator.\n",
    "\n",
    "> Can be passed to functions like iter() to obtain an iterator."
   ]
  },
  {
   "cell_type": "markdown",
   "metadata": {},
   "source": [
    "### Iterator: \n",
    "\n",
    "> An object that represents a stream of data, it produces items one at a time and only once.\n",
    "\n",
    "> Must implement both __iter__() and __next__() methods.\n",
    "\n",
    "> Can be used in a loop (eg. for loop) to retrieve elements one at a time until the StopIteration exception is raised."
   ]
  },
  {
   "cell_type": "code",
   "execution_count": 4,
   "metadata": {},
   "outputs": [
    {
     "name": "stdout",
     "output_type": "stream",
     "text": [
      "1\n",
      "2\n",
      "3\n",
      "4\n",
      "End of iterator reached\n",
      "1\n",
      "2\n",
      "3\n",
      "4\n"
     ]
    }
   ],
   "source": [
    "# Iterable: list\n",
    "my_list = [1, 2, 3, 4]\n",
    "\n",
    "# iterator\n",
    "my_iterator = iter(my_list)\n",
    "\n",
    "# Iterate through the iterator\n",
    "print(next(my_iterator))\n",
    "print(next(my_iterator))\n",
    "print(next(my_iterator))\n",
    "print(next(my_iterator))\n",
    "\n",
    "# If we call next() again, it will raise StopIteration\n",
    "try:\n",
    "    print(next(my_iterator))\n",
    "except StopIteration:\n",
    "    print(\"End of iterator reached\")\n",
    "\n",
    "# Using  for loop to iterate over an iterable\n",
    "for item in my_list:\n",
    "    print(item)"
   ]
  },
  {
   "cell_type": "markdown",
   "metadata": {},
   "source": [
    "# 6. Explain the concept of generators in Python and how they are defined."
   ]
  },
  {
   "cell_type": "markdown",
   "metadata": {},
   "source": [
    ">Generators are a way to create iterators.\n",
    "\n",
    ">Instead of returning a single value and terminating like regular functions, generators yield values one at a time, pausing between each yield.\n",
    "\n",
    ">They are defined using the yield keyword instead of return.\n",
    "\n",
    "> They are memory efficient and can be used to iterate over large datasets."
   ]
  },
  {
   "cell_type": "code",
   "execution_count": 6,
   "metadata": {},
   "outputs": [
    {
     "name": "stdout",
     "output_type": "stream",
     "text": [
      "1\n",
      "2\n",
      "3\n"
     ]
    }
   ],
   "source": [
    "# Generator function\n",
    "\n",
    "def simple_generator():\n",
    "    yield 1\n",
    "    yield 2\n",
    "    yield 3\n",
    "\n",
    "gen = simple_generator()\n",
    "\n",
    "# Iterating generator\n",
    "print(next(gen))\n",
    "print(next(gen)) \n",
    "print(next(gen))  \n",
    "\n"
   ]
  },
  {
   "cell_type": "code",
   "execution_count": 7,
   "metadata": {},
   "outputs": [
    {
     "name": "stdout",
     "output_type": "stream",
     "text": [
      "1\n",
      "2\n",
      "3\n"
     ]
    }
   ],
   "source": [
    "# Generator with loop\n",
    "\n",
    "def simple_generator():\n",
    "    yield 1\n",
    "    yield 2\n",
    "    yield 3\n",
    "\n",
    "gen = simple_generator()\n",
    "\n",
    "# Iterating generator using a loop\n",
    "for value in gen:\n",
    "    print(value)"
   ]
  },
  {
   "cell_type": "code",
   "execution_count": 9,
   "metadata": {},
   "outputs": [
    {
     "name": "stdout",
     "output_type": "stream",
     "text": [
      "0\n",
      "1\n",
      "4\n"
     ]
    }
   ],
   "source": [
    "# Generator expression\n",
    "\n",
    "gen_expr = (x * x for x in range(3))\n",
    "\n",
    "# Iterating  generator\n",
    "print(next(gen_expr))\n",
    "print(next(gen_expr))\n",
    "print(next(gen_expr)) \n",
    "\n",
    "# it will cause error if  we run next(gen_expr) again"
   ]
  },
  {
   "cell_type": "markdown",
   "metadata": {},
   "source": [
    "# 7. What are the advantages of using generators over regular functions?"
   ]
  },
  {
   "cell_type": "markdown",
   "metadata": {},
   "source": [
    ">Memory Efficiency: Generators do not store the entire sequence in memory.\n",
    "\n",
    ">Lazy Evaluation: Values are computed only when needed.\n",
    "\n",
    ">Improved Performance: Reduced computation and faster startup times.\n",
    "\n",
    ">State Retention: Generators maintain their state between iterations.\n",
    "\n",
    ">Simpler Code: Easier to write and maintain complex iteration logic.\n",
    "\n",
    ">Pipeline Construction: Generators can be composed into efficient data processing pipelines."
   ]
  },
  {
   "cell_type": "code",
   "execution_count": 30,
   "metadata": {},
   "outputs": [
    {
     "data": {
      "text/plain": [
       "[0,\n",
       " 1,\n",
       " 4,\n",
       " 9,\n",
       " 16,\n",
       " 25,\n",
       " 36,\n",
       " 49,\n",
       " 64,\n",
       " 81,\n",
       " 100,\n",
       " 121,\n",
       " 144,\n",
       " 169,\n",
       " 196,\n",
       " 225,\n",
       " 256,\n",
       " 289,\n",
       " 324,\n",
       " 361,\n",
       " 400,\n",
       " 441,\n",
       " 484,\n",
       " 529,\n",
       " 576,\n",
       " 625,\n",
       " 676,\n",
       " 729,\n",
       " 784,\n",
       " 841,\n",
       " 900,\n",
       " 961,\n",
       " 1024,\n",
       " 1089,\n",
       " 1156,\n",
       " 1225,\n",
       " 1296,\n",
       " 1369,\n",
       " 1444,\n",
       " 1521,\n",
       " 1600,\n",
       " 1681,\n",
       " 1764,\n",
       " 1849,\n",
       " 1936,\n",
       " 2025,\n",
       " 2116,\n",
       " 2209,\n",
       " 2304,\n",
       " 2401,\n",
       " 2500,\n",
       " 2601,\n",
       " 2704,\n",
       " 2809,\n",
       " 2916,\n",
       " 3025,\n",
       " 3136,\n",
       " 3249,\n",
       " 3364,\n",
       " 3481,\n",
       " 3600,\n",
       " 3721,\n",
       " 3844,\n",
       " 3969,\n",
       " 4096,\n",
       " 4225,\n",
       " 4356,\n",
       " 4489,\n",
       " 4624,\n",
       " 4761,\n",
       " 4900,\n",
       " 5041,\n",
       " 5184,\n",
       " 5329,\n",
       " 5476,\n",
       " 5625,\n",
       " 5776,\n",
       " 5929,\n",
       " 6084,\n",
       " 6241,\n",
       " 6400,\n",
       " 6561,\n",
       " 6724,\n",
       " 6889,\n",
       " 7056,\n",
       " 7225,\n",
       " 7396,\n",
       " 7569,\n",
       " 7744,\n",
       " 7921,\n",
       " 8100,\n",
       " 8281,\n",
       " 8464,\n",
       " 8649,\n",
       " 8836,\n",
       " 9025,\n",
       " 9216,\n",
       " 9409,\n",
       " 9604,\n",
       " 9801,\n",
       " 10000,\n",
       " 10201,\n",
       " 10404,\n",
       " 10609,\n",
       " 10816,\n",
       " 11025,\n",
       " 11236,\n",
       " 11449,\n",
       " 11664,\n",
       " 11881,\n",
       " 12100,\n",
       " 12321,\n",
       " 12544,\n",
       " 12769,\n",
       " 12996,\n",
       " 13225,\n",
       " 13456,\n",
       " 13689,\n",
       " 13924,\n",
       " 14161,\n",
       " 14400,\n",
       " 14641,\n",
       " 14884,\n",
       " 15129,\n",
       " 15376,\n",
       " 15625,\n",
       " 15876,\n",
       " 16129,\n",
       " 16384,\n",
       " 16641,\n",
       " 16900,\n",
       " 17161,\n",
       " 17424,\n",
       " 17689,\n",
       " 17956,\n",
       " 18225,\n",
       " 18496,\n",
       " 18769,\n",
       " 19044,\n",
       " 19321,\n",
       " 19600,\n",
       " 19881,\n",
       " 20164,\n",
       " 20449,\n",
       " 20736,\n",
       " 21025,\n",
       " 21316,\n",
       " 21609,\n",
       " 21904,\n",
       " 22201,\n",
       " 22500,\n",
       " 22801,\n",
       " 23104,\n",
       " 23409,\n",
       " 23716,\n",
       " 24025,\n",
       " 24336,\n",
       " 24649,\n",
       " 24964,\n",
       " 25281,\n",
       " 25600,\n",
       " 25921,\n",
       " 26244,\n",
       " 26569,\n",
       " 26896,\n",
       " 27225,\n",
       " 27556,\n",
       " 27889,\n",
       " 28224,\n",
       " 28561,\n",
       " 28900,\n",
       " 29241,\n",
       " 29584,\n",
       " 29929,\n",
       " 30276,\n",
       " 30625,\n",
       " 30976,\n",
       " 31329,\n",
       " 31684,\n",
       " 32041,\n",
       " 32400,\n",
       " 32761,\n",
       " 33124,\n",
       " 33489,\n",
       " 33856,\n",
       " 34225,\n",
       " 34596,\n",
       " 34969,\n",
       " 35344,\n",
       " 35721,\n",
       " 36100,\n",
       " 36481,\n",
       " 36864,\n",
       " 37249,\n",
       " 37636,\n",
       " 38025,\n",
       " 38416,\n",
       " 38809,\n",
       " 39204,\n",
       " 39601,\n",
       " 40000,\n",
       " 40401,\n",
       " 40804,\n",
       " 41209,\n",
       " 41616,\n",
       " 42025,\n",
       " 42436,\n",
       " 42849,\n",
       " 43264,\n",
       " 43681,\n",
       " 44100,\n",
       " 44521,\n",
       " 44944,\n",
       " 45369,\n",
       " 45796,\n",
       " 46225,\n",
       " 46656,\n",
       " 47089,\n",
       " 47524,\n",
       " 47961,\n",
       " 48400,\n",
       " 48841,\n",
       " 49284,\n",
       " 49729,\n",
       " 50176,\n",
       " 50625,\n",
       " 51076,\n",
       " 51529,\n",
       " 51984,\n",
       " 52441,\n",
       " 52900,\n",
       " 53361,\n",
       " 53824,\n",
       " 54289,\n",
       " 54756,\n",
       " 55225,\n",
       " 55696,\n",
       " 56169,\n",
       " 56644,\n",
       " 57121,\n",
       " 57600,\n",
       " 58081,\n",
       " 58564,\n",
       " 59049,\n",
       " 59536,\n",
       " 60025,\n",
       " 60516,\n",
       " 61009,\n",
       " 61504,\n",
       " 62001,\n",
       " 62500,\n",
       " 63001,\n",
       " 63504,\n",
       " 64009,\n",
       " 64516,\n",
       " 65025,\n",
       " 65536,\n",
       " 66049,\n",
       " 66564,\n",
       " 67081,\n",
       " 67600,\n",
       " 68121,\n",
       " 68644,\n",
       " 69169,\n",
       " 69696,\n",
       " 70225,\n",
       " 70756,\n",
       " 71289,\n",
       " 71824,\n",
       " 72361,\n",
       " 72900,\n",
       " 73441,\n",
       " 73984,\n",
       " 74529,\n",
       " 75076,\n",
       " 75625,\n",
       " 76176,\n",
       " 76729,\n",
       " 77284,\n",
       " 77841,\n",
       " 78400,\n",
       " 78961,\n",
       " 79524,\n",
       " 80089,\n",
       " 80656,\n",
       " 81225,\n",
       " 81796,\n",
       " 82369,\n",
       " 82944,\n",
       " 83521,\n",
       " 84100,\n",
       " 84681,\n",
       " 85264,\n",
       " 85849,\n",
       " 86436,\n",
       " 87025,\n",
       " 87616,\n",
       " 88209,\n",
       " 88804,\n",
       " 89401,\n",
       " 90000,\n",
       " 90601,\n",
       " 91204,\n",
       " 91809,\n",
       " 92416,\n",
       " 93025,\n",
       " 93636,\n",
       " 94249,\n",
       " 94864,\n",
       " 95481,\n",
       " 96100,\n",
       " 96721,\n",
       " 97344,\n",
       " 97969,\n",
       " 98596,\n",
       " 99225,\n",
       " 99856,\n",
       " 100489,\n",
       " 101124,\n",
       " 101761,\n",
       " 102400,\n",
       " 103041,\n",
       " 103684,\n",
       " 104329,\n",
       " 104976,\n",
       " 105625,\n",
       " 106276,\n",
       " 106929,\n",
       " 107584,\n",
       " 108241,\n",
       " 108900,\n",
       " 109561,\n",
       " 110224,\n",
       " 110889,\n",
       " 111556,\n",
       " 112225,\n",
       " 112896,\n",
       " 113569,\n",
       " 114244,\n",
       " 114921,\n",
       " 115600,\n",
       " 116281,\n",
       " 116964,\n",
       " 117649,\n",
       " 118336,\n",
       " 119025,\n",
       " 119716,\n",
       " 120409,\n",
       " 121104,\n",
       " 121801,\n",
       " 122500,\n",
       " 123201,\n",
       " 123904,\n",
       " 124609,\n",
       " 125316,\n",
       " 126025,\n",
       " 126736,\n",
       " 127449,\n",
       " 128164,\n",
       " 128881,\n",
       " 129600,\n",
       " 130321,\n",
       " 131044,\n",
       " 131769,\n",
       " 132496,\n",
       " 133225,\n",
       " 133956,\n",
       " 134689,\n",
       " 135424,\n",
       " 136161,\n",
       " 136900,\n",
       " 137641,\n",
       " 138384,\n",
       " 139129,\n",
       " 139876,\n",
       " 140625,\n",
       " 141376,\n",
       " 142129,\n",
       " 142884,\n",
       " 143641,\n",
       " 144400,\n",
       " 145161,\n",
       " 145924,\n",
       " 146689,\n",
       " 147456,\n",
       " 148225,\n",
       " 148996,\n",
       " 149769,\n",
       " 150544,\n",
       " 151321,\n",
       " 152100,\n",
       " 152881,\n",
       " 153664,\n",
       " 154449,\n",
       " 155236,\n",
       " 156025,\n",
       " 156816,\n",
       " 157609,\n",
       " 158404,\n",
       " 159201,\n",
       " 160000,\n",
       " 160801,\n",
       " 161604,\n",
       " 162409,\n",
       " 163216,\n",
       " 164025,\n",
       " 164836,\n",
       " 165649,\n",
       " 166464,\n",
       " 167281,\n",
       " 168100,\n",
       " 168921,\n",
       " 169744,\n",
       " 170569,\n",
       " 171396,\n",
       " 172225,\n",
       " 173056,\n",
       " 173889,\n",
       " 174724,\n",
       " 175561,\n",
       " 176400,\n",
       " 177241,\n",
       " 178084,\n",
       " 178929,\n",
       " 179776,\n",
       " 180625,\n",
       " 181476,\n",
       " 182329,\n",
       " 183184,\n",
       " 184041,\n",
       " 184900,\n",
       " 185761,\n",
       " 186624,\n",
       " 187489,\n",
       " 188356,\n",
       " 189225,\n",
       " 190096,\n",
       " 190969,\n",
       " 191844,\n",
       " 192721,\n",
       " 193600,\n",
       " 194481,\n",
       " 195364,\n",
       " 196249,\n",
       " 197136,\n",
       " 198025,\n",
       " 198916,\n",
       " 199809,\n",
       " 200704,\n",
       " 201601,\n",
       " 202500,\n",
       " 203401,\n",
       " 204304,\n",
       " 205209,\n",
       " 206116,\n",
       " 207025,\n",
       " 207936,\n",
       " 208849,\n",
       " 209764,\n",
       " 210681,\n",
       " 211600,\n",
       " 212521,\n",
       " 213444,\n",
       " 214369,\n",
       " 215296,\n",
       " 216225,\n",
       " 217156,\n",
       " 218089,\n",
       " 219024,\n",
       " 219961,\n",
       " 220900,\n",
       " 221841,\n",
       " 222784,\n",
       " 223729,\n",
       " 224676,\n",
       " 225625,\n",
       " 226576,\n",
       " 227529,\n",
       " 228484,\n",
       " 229441,\n",
       " 230400,\n",
       " 231361,\n",
       " 232324,\n",
       " 233289,\n",
       " 234256,\n",
       " 235225,\n",
       " 236196,\n",
       " 237169,\n",
       " 238144,\n",
       " 239121,\n",
       " 240100,\n",
       " 241081,\n",
       " 242064,\n",
       " 243049,\n",
       " 244036,\n",
       " 245025,\n",
       " 246016,\n",
       " 247009,\n",
       " 248004,\n",
       " 249001,\n",
       " 250000,\n",
       " 251001,\n",
       " 252004,\n",
       " 253009,\n",
       " 254016,\n",
       " 255025,\n",
       " 256036,\n",
       " 257049,\n",
       " 258064,\n",
       " 259081,\n",
       " 260100,\n",
       " 261121,\n",
       " 262144,\n",
       " 263169,\n",
       " 264196,\n",
       " 265225,\n",
       " 266256,\n",
       " 267289,\n",
       " 268324,\n",
       " 269361,\n",
       " 270400,\n",
       " 271441,\n",
       " 272484,\n",
       " 273529,\n",
       " 274576,\n",
       " 275625,\n",
       " 276676,\n",
       " 277729,\n",
       " 278784,\n",
       " 279841,\n",
       " 280900,\n",
       " 281961,\n",
       " 283024,\n",
       " 284089,\n",
       " 285156,\n",
       " 286225,\n",
       " 287296,\n",
       " 288369,\n",
       " 289444,\n",
       " 290521,\n",
       " 291600,\n",
       " 292681,\n",
       " 293764,\n",
       " 294849,\n",
       " 295936,\n",
       " 297025,\n",
       " 298116,\n",
       " 299209,\n",
       " 300304,\n",
       " 301401,\n",
       " 302500,\n",
       " 303601,\n",
       " 304704,\n",
       " 305809,\n",
       " 306916,\n",
       " 308025,\n",
       " 309136,\n",
       " 310249,\n",
       " 311364,\n",
       " 312481,\n",
       " 313600,\n",
       " 314721,\n",
       " 315844,\n",
       " 316969,\n",
       " 318096,\n",
       " 319225,\n",
       " 320356,\n",
       " 321489,\n",
       " 322624,\n",
       " 323761,\n",
       " 324900,\n",
       " 326041,\n",
       " 327184,\n",
       " 328329,\n",
       " 329476,\n",
       " 330625,\n",
       " 331776,\n",
       " 332929,\n",
       " 334084,\n",
       " 335241,\n",
       " 336400,\n",
       " 337561,\n",
       " 338724,\n",
       " 339889,\n",
       " 341056,\n",
       " 342225,\n",
       " 343396,\n",
       " 344569,\n",
       " 345744,\n",
       " 346921,\n",
       " 348100,\n",
       " 349281,\n",
       " 350464,\n",
       " 351649,\n",
       " 352836,\n",
       " 354025,\n",
       " 355216,\n",
       " 356409,\n",
       " 357604,\n",
       " 358801,\n",
       " 360000,\n",
       " 361201,\n",
       " 362404,\n",
       " 363609,\n",
       " 364816,\n",
       " 366025,\n",
       " 367236,\n",
       " 368449,\n",
       " 369664,\n",
       " 370881,\n",
       " 372100,\n",
       " 373321,\n",
       " 374544,\n",
       " 375769,\n",
       " 376996,\n",
       " 378225,\n",
       " 379456,\n",
       " 380689,\n",
       " 381924,\n",
       " 383161,\n",
       " 384400,\n",
       " 385641,\n",
       " 386884,\n",
       " 388129,\n",
       " 389376,\n",
       " 390625,\n",
       " 391876,\n",
       " 393129,\n",
       " 394384,\n",
       " 395641,\n",
       " 396900,\n",
       " 398161,\n",
       " 399424,\n",
       " 400689,\n",
       " 401956,\n",
       " 403225,\n",
       " 404496,\n",
       " 405769,\n",
       " 407044,\n",
       " 408321,\n",
       " 409600,\n",
       " 410881,\n",
       " 412164,\n",
       " 413449,\n",
       " 414736,\n",
       " 416025,\n",
       " 417316,\n",
       " 418609,\n",
       " 419904,\n",
       " 421201,\n",
       " 422500,\n",
       " 423801,\n",
       " 425104,\n",
       " 426409,\n",
       " 427716,\n",
       " 429025,\n",
       " 430336,\n",
       " 431649,\n",
       " 432964,\n",
       " 434281,\n",
       " 435600,\n",
       " 436921,\n",
       " 438244,\n",
       " 439569,\n",
       " 440896,\n",
       " 442225,\n",
       " 443556,\n",
       " 444889,\n",
       " 446224,\n",
       " 447561,\n",
       " 448900,\n",
       " 450241,\n",
       " 451584,\n",
       " 452929,\n",
       " 454276,\n",
       " 455625,\n",
       " 456976,\n",
       " 458329,\n",
       " 459684,\n",
       " 461041,\n",
       " 462400,\n",
       " 463761,\n",
       " 465124,\n",
       " 466489,\n",
       " 467856,\n",
       " 469225,\n",
       " 470596,\n",
       " 471969,\n",
       " 473344,\n",
       " 474721,\n",
       " 476100,\n",
       " 477481,\n",
       " 478864,\n",
       " 480249,\n",
       " 481636,\n",
       " 483025,\n",
       " 484416,\n",
       " 485809,\n",
       " 487204,\n",
       " 488601,\n",
       " 490000,\n",
       " 491401,\n",
       " 492804,\n",
       " 494209,\n",
       " 495616,\n",
       " 497025,\n",
       " 498436,\n",
       " 499849,\n",
       " 501264,\n",
       " 502681,\n",
       " 504100,\n",
       " 505521,\n",
       " 506944,\n",
       " 508369,\n",
       " 509796,\n",
       " 511225,\n",
       " 512656,\n",
       " 514089,\n",
       " 515524,\n",
       " 516961,\n",
       " 518400,\n",
       " 519841,\n",
       " 521284,\n",
       " 522729,\n",
       " 524176,\n",
       " 525625,\n",
       " 527076,\n",
       " 528529,\n",
       " 529984,\n",
       " 531441,\n",
       " 532900,\n",
       " 534361,\n",
       " 535824,\n",
       " 537289,\n",
       " 538756,\n",
       " 540225,\n",
       " 541696,\n",
       " 543169,\n",
       " 544644,\n",
       " 546121,\n",
       " 547600,\n",
       " 549081,\n",
       " 550564,\n",
       " 552049,\n",
       " 553536,\n",
       " 555025,\n",
       " 556516,\n",
       " 558009,\n",
       " 559504,\n",
       " 561001,\n",
       " 562500,\n",
       " 564001,\n",
       " 565504,\n",
       " 567009,\n",
       " 568516,\n",
       " 570025,\n",
       " 571536,\n",
       " 573049,\n",
       " 574564,\n",
       " 576081,\n",
       " 577600,\n",
       " 579121,\n",
       " 580644,\n",
       " 582169,\n",
       " 583696,\n",
       " 585225,\n",
       " 586756,\n",
       " 588289,\n",
       " 589824,\n",
       " 591361,\n",
       " 592900,\n",
       " 594441,\n",
       " 595984,\n",
       " 597529,\n",
       " 599076,\n",
       " 600625,\n",
       " 602176,\n",
       " 603729,\n",
       " 605284,\n",
       " 606841,\n",
       " 608400,\n",
       " 609961,\n",
       " 611524,\n",
       " 613089,\n",
       " 614656,\n",
       " 616225,\n",
       " 617796,\n",
       " 619369,\n",
       " 620944,\n",
       " 622521,\n",
       " 624100,\n",
       " 625681,\n",
       " 627264,\n",
       " 628849,\n",
       " 630436,\n",
       " 632025,\n",
       " 633616,\n",
       " 635209,\n",
       " 636804,\n",
       " 638401,\n",
       " 640000,\n",
       " 641601,\n",
       " 643204,\n",
       " 644809,\n",
       " 646416,\n",
       " 648025,\n",
       " 649636,\n",
       " 651249,\n",
       " 652864,\n",
       " 654481,\n",
       " 656100,\n",
       " 657721,\n",
       " 659344,\n",
       " 660969,\n",
       " 662596,\n",
       " 664225,\n",
       " 665856,\n",
       " 667489,\n",
       " 669124,\n",
       " 670761,\n",
       " 672400,\n",
       " 674041,\n",
       " 675684,\n",
       " 677329,\n",
       " 678976,\n",
       " 680625,\n",
       " 682276,\n",
       " 683929,\n",
       " 685584,\n",
       " 687241,\n",
       " 688900,\n",
       " 690561,\n",
       " 692224,\n",
       " 693889,\n",
       " 695556,\n",
       " 697225,\n",
       " 698896,\n",
       " 700569,\n",
       " 702244,\n",
       " 703921,\n",
       " 705600,\n",
       " 707281,\n",
       " 708964,\n",
       " 710649,\n",
       " 712336,\n",
       " 714025,\n",
       " 715716,\n",
       " 717409,\n",
       " 719104,\n",
       " 720801,\n",
       " 722500,\n",
       " 724201,\n",
       " 725904,\n",
       " 727609,\n",
       " 729316,\n",
       " 731025,\n",
       " 732736,\n",
       " 734449,\n",
       " 736164,\n",
       " 737881,\n",
       " 739600,\n",
       " 741321,\n",
       " 743044,\n",
       " 744769,\n",
       " 746496,\n",
       " 748225,\n",
       " 749956,\n",
       " 751689,\n",
       " 753424,\n",
       " 755161,\n",
       " 756900,\n",
       " 758641,\n",
       " 760384,\n",
       " 762129,\n",
       " 763876,\n",
       " 765625,\n",
       " 767376,\n",
       " 769129,\n",
       " 770884,\n",
       " 772641,\n",
       " 774400,\n",
       " 776161,\n",
       " 777924,\n",
       " 779689,\n",
       " 781456,\n",
       " 783225,\n",
       " 784996,\n",
       " 786769,\n",
       " 788544,\n",
       " 790321,\n",
       " 792100,\n",
       " 793881,\n",
       " 795664,\n",
       " 797449,\n",
       " 799236,\n",
       " 801025,\n",
       " 802816,\n",
       " 804609,\n",
       " 806404,\n",
       " 808201,\n",
       " 810000,\n",
       " 811801,\n",
       " 813604,\n",
       " 815409,\n",
       " 817216,\n",
       " 819025,\n",
       " 820836,\n",
       " 822649,\n",
       " 824464,\n",
       " 826281,\n",
       " 828100,\n",
       " 829921,\n",
       " 831744,\n",
       " 833569,\n",
       " 835396,\n",
       " 837225,\n",
       " 839056,\n",
       " 840889,\n",
       " 842724,\n",
       " 844561,\n",
       " 846400,\n",
       " 848241,\n",
       " 850084,\n",
       " 851929,\n",
       " 853776,\n",
       " 855625,\n",
       " 857476,\n",
       " 859329,\n",
       " 861184,\n",
       " 863041,\n",
       " 864900,\n",
       " 866761,\n",
       " 868624,\n",
       " 870489,\n",
       " 872356,\n",
       " 874225,\n",
       " 876096,\n",
       " 877969,\n",
       " 879844,\n",
       " 881721,\n",
       " 883600,\n",
       " 885481,\n",
       " 887364,\n",
       " 889249,\n",
       " 891136,\n",
       " 893025,\n",
       " 894916,\n",
       " 896809,\n",
       " 898704,\n",
       " 900601,\n",
       " 902500,\n",
       " 904401,\n",
       " 906304,\n",
       " 908209,\n",
       " 910116,\n",
       " 912025,\n",
       " 913936,\n",
       " 915849,\n",
       " 917764,\n",
       " 919681,\n",
       " 921600,\n",
       " 923521,\n",
       " 925444,\n",
       " 927369,\n",
       " 929296,\n",
       " 931225,\n",
       " 933156,\n",
       " 935089,\n",
       " 937024,\n",
       " 938961,\n",
       " 940900,\n",
       " 942841,\n",
       " 944784,\n",
       " 946729,\n",
       " 948676,\n",
       " 950625,\n",
       " 952576,\n",
       " 954529,\n",
       " 956484,\n",
       " 958441,\n",
       " 960400,\n",
       " 962361,\n",
       " 964324,\n",
       " 966289,\n",
       " 968256,\n",
       " 970225,\n",
       " 972196,\n",
       " 974169,\n",
       " 976144,\n",
       " 978121,\n",
       " 980100,\n",
       " 982081,\n",
       " 984064,\n",
       " 986049,\n",
       " 988036,\n",
       " 990025,\n",
       " 992016,\n",
       " 994009,\n",
       " 996004,\n",
       " 998001,\n",
       " ...]"
      ]
     },
     "execution_count": 30,
     "metadata": {},
     "output_type": "execute_result"
    }
   ],
   "source": [
    "# using list\n",
    "def squares_list(n):\n",
    "    return [i**2 for i in range(n)]\n",
    "\n",
    "squares = squares_list(10000)\n",
    "squares"
   ]
  },
  {
   "cell_type": "code",
   "execution_count": 31,
   "metadata": {},
   "outputs": [
    {
     "data": {
      "text/plain": [
       "<generator object squares_generator at 0x000002262FD7C2B0>"
      ]
     },
     "execution_count": 31,
     "metadata": {},
     "output_type": "execute_result"
    }
   ],
   "source": [
    "# using generator\n",
    "def squares_generator(n):\n",
    "    for i in range(n):\n",
    "        yield i**2\n",
    "\n",
    "squares = squares_generator(10000)\n",
    "squares"
   ]
  },
  {
   "cell_type": "markdown",
   "metadata": {},
   "source": [
    "# 8. What is lambda function in python and when is it typically used?"
   ]
  },
  {
   "cell_type": "markdown",
   "metadata": {},
   "source": [
    "A lambda function in Python is a small anonymous function defined with the lambda keyword. Lambda functions can have any number of arguments but can only have one expression. They are syntactically restricted to a single expression and are typically used for simple operations that can be written in one line."
   ]
  },
  {
   "cell_type": "markdown",
   "metadata": {},
   "source": [
    "Syntax\n",
    "\n",
    ">lambda arguments: expression"
   ]
  },
  {
   "cell_type": "code",
   "execution_count": 11,
   "metadata": {},
   "outputs": [
    {
     "name": "stdout",
     "output_type": "stream",
     "text": [
      "5\n"
     ]
    }
   ],
   "source": [
    "# example\n",
    "\n",
    "add = lambda x, y: x + y\n",
    "print(add(2, 3))"
   ]
  },
  {
   "cell_type": "markdown",
   "metadata": {},
   "source": [
    ">Lambda functions are typically used for short, simple functions that are used temporarily, often passed as arguments to higher-order functions."
   ]
  },
  {
   "cell_type": "code",
   "execution_count": 12,
   "metadata": {},
   "outputs": [
    {
     "name": "stdout",
     "output_type": "stream",
     "text": [
      "[2, 4, 6]\n"
     ]
    }
   ],
   "source": [
    "# Using filter() with a lambda function to filter a list:\n",
    "\n",
    "numbers = [1, 2, 3, 4, 5, 6]\n",
    "even_numbers = list(filter(lambda x: x % 2 == 0, numbers))\n",
    "print(even_numbers)"
   ]
  },
  {
   "cell_type": "code",
   "execution_count": 13,
   "metadata": {},
   "outputs": [
    {
     "name": "stdout",
     "output_type": "stream",
     "text": [
      "[1, 4, 9, 16]\n"
     ]
    }
   ],
   "source": [
    "# Using map() with a lambda function to transform a list:\n",
    "\n",
    "numbers = [1, 2, 3, 4]\n",
    "squared_numbers = list(map(lambda x: x ** 2, numbers))\n",
    "print(squared_numbers)\n"
   ]
  },
  {
   "cell_type": "markdown",
   "metadata": {},
   "source": [
    "9. Explain the purpose and usage of the map(), reduce() and filter() functions in python?"
   ]
  },
  {
   "cell_type": "markdown",
   "metadata": {},
   "source": [
    "### 1. map()\n",
    "\n",
    "Purpose: map() applies a given function to all items in an input list (or any other iterable) and returns an iterator of the results.\n",
    "\n",
    "\n",
    "Syntax\n",
    ">map(function, iterable,)\n",
    "\n",
    ">function: A function that takes one or more arguments.\n",
    "\n",
    ">iterable: One or more iterables."
   ]
  },
  {
   "cell_type": "code",
   "execution_count": 16,
   "metadata": {},
   "outputs": [
    {
     "name": "stdout",
     "output_type": "stream",
     "text": [
      "[1, 4, 9, 16]\n",
      "[5, 7, 9]\n"
     ]
    }
   ],
   "source": [
    "# Example: Squaring each number in a list\n",
    "\n",
    "numbers = [1, 2, 3, 4]\n",
    "squared_numbers = list(map(lambda x: x ** 2, numbers))\n",
    "print(squared_numbers) \n",
    "\n",
    "numbers1 = [1, 2, 3]\n",
    "numbers2 = [4, 5, 6]\n",
    "sum_numbers = list(map(lambda x, y: x + y, numbers1, numbers2))\n",
    "print(sum_numbers)  "
   ]
  },
  {
   "cell_type": "markdown",
   "metadata": {},
   "source": [
    "### 2. filter()\n",
    "\n",
    "Purpose: filter() constructs an iterator from elements of an iterable for which a function returns true.\n",
    "\n",
    "Syntax:\n",
    "\n",
    ">filter(function, iterable)\n",
    "\n",
    ">function: A function that takes one argument and returns a boolean.\n",
    "\n",
    ">iterable: The iterable to be filtered."
   ]
  },
  {
   "cell_type": "code",
   "execution_count": 17,
   "metadata": {},
   "outputs": [
    {
     "name": "stdout",
     "output_type": "stream",
     "text": [
      "[2, 4, 6]\n",
      "[1, 2, 3]\n"
     ]
    }
   ],
   "source": [
    "# Example: Filtering even numbers from a list\n",
    "numbers = [1, 2, 3, 4, 5, 6]\n",
    "even_numbers = list(filter(lambda x: x % 2 == 0, numbers))\n",
    "print(even_numbers)  \n",
    "\n",
    "# Example: Filtering out non-positive numbers\n",
    "numbers = [-1, 0, 1, 2, 3]\n",
    "positive_numbers = list(filter(lambda x: x > 0, numbers))\n",
    "print(positive_numbers)  \n"
   ]
  },
  {
   "cell_type": "markdown",
   "metadata": {},
   "source": [
    "### 2. reduce()\n",
    "\n",
    "Purpose: reduce() applies a rolling computation to sequential pairs of values in an iterable, effectively reducing the iterable to a single cumulative value. It is part of the functools module.\n",
    "\n",
    "Syntax:\n",
    "\n",
    ">functools.reduce(function, iterable[, initializer])\n",
    "\n",
    ">function: A function that takes two arguments.\n",
    "\n",
    ">iterable: The iterable to be reduced.\n",
    "\n",
    ">initializer: (Optional) Initial value for the accumulator.\n",
    "\n"
   ]
  },
  {
   "cell_type": "code",
   "execution_count": 18,
   "metadata": {},
   "outputs": [
    {
     "name": "stdout",
     "output_type": "stream",
     "text": [
      "24\n",
      "20\n"
     ]
    }
   ],
   "source": [
    "from functools import reduce\n",
    "\n",
    "# Example: Calculating the product of all numbers in a list\n",
    "numbers = [1, 2, 3, 4]\n",
    "product = reduce(lambda x, y: x * y, numbers)\n",
    "print(product)\n",
    "\n",
    "# Example: Summing all numbers in a list \n",
    "total = reduce(lambda x, y: x + y, numbers, 10)\n",
    "print(total)\n"
   ]
  },
  {
   "cell_type": "markdown",
   "metadata": {},
   "source": [
    "10. What is the difference between map(), reduce() and filter() functions in python?"
   ]
  },
  {
   "cell_type": "markdown",
   "metadata": {},
   "source": [
    "### map()\n",
    "\n",
    "Key Points:\n",
    "\n",
    ">Transforms each element in the iterable.\n",
    "\n",
    ">The function is applied to each element individually.\n",
    "\n",
    ">The resulting iterable has the same number of elements as the original."
   ]
  },
  {
   "cell_type": "code",
   "execution_count": 19,
   "metadata": {},
   "outputs": [
    {
     "name": "stdout",
     "output_type": "stream",
     "text": [
      "[1, 4, 9, 16, 25, 36]\n"
     ]
    }
   ],
   "source": [
    "numbers = [1, 2, 3, 4, 5, 6]\n",
    "squared_numbers = list(map(lambda x: x ** 2, numbers))\n",
    "print(squared_numbers) "
   ]
  },
  {
   "cell_type": "markdown",
   "metadata": {},
   "source": [
    "### reduce()\n",
    "\n",
    "Key Points:\n",
    "\n",
    ">Combines elements of the iterable into a single value.\n",
    "\n",
    ">The function takes two arguments: an accumulator and the next item in the sequence.\n",
    "\n",
    ">Typically used for operations like summing, multiplying, or finding the greatest common divisor."
   ]
  },
  {
   "cell_type": "code",
   "execution_count": 20,
   "metadata": {},
   "outputs": [
    {
     "name": "stdout",
     "output_type": "stream",
     "text": [
      "720\n"
     ]
    }
   ],
   "source": [
    "from functools import reduce\n",
    "numbers = [1, 2, 3, 4, 5, 6]\n",
    "product = reduce(lambda x, y: x * y, numbers)\n",
    "print(product)"
   ]
  },
  {
   "cell_type": "markdown",
   "metadata": {},
   "source": [
    "### filter()\n",
    "\n",
    "Key Points:\n",
    "\n",
    ">Selects elements based on a condition.\n",
    "\n",
    ">The function is a predicate that returns True or False.\n",
    "\n",
    ">The resulting iterable may have fewer elements than the original."
   ]
  },
  {
   "cell_type": "code",
   "execution_count": 21,
   "metadata": {},
   "outputs": [
    {
     "name": "stdout",
     "output_type": "stream",
     "text": [
      "[2, 4, 6]\n"
     ]
    }
   ],
   "source": [
    "numbers = [1, 2, 3, 4, 5, 6]\n",
    "even_numbers = list(filter(lambda x: x % 2 == 0, numbers))\n",
    "print(even_numbers)"
   ]
  },
  {
   "cell_type": "markdown",
   "metadata": {},
   "source": [
    "11. Using pen & paper write the internal mechanism for sum operating using reduce function on this given list: [47,11,42,13];"
   ]
  },
  {
   "cell_type": "code",
   "execution_count": 2,
   "metadata": {},
   "outputs": [
    {
     "data": {
      "text/plain": [
       "113"
      ]
     },
     "execution_count": 2,
     "metadata": {},
     "output_type": "execute_result"
    }
   ],
   "source": [
    "# Import the reduce function:\n",
    "\n",
    "from functools import reduce\n",
    "\n",
    "\n",
    "# Define the list:\n",
    "\n",
    "numbers = [47, 11, 42, 13]\n",
    "\n",
    "\n",
    "# Use reduce with a lambda function to sum the list:\n",
    "\n",
    "result = reduce(lambda x, y: x + y, numbers)\n",
    "\n",
    "result"
   ]
  },
  {
   "cell_type": "markdown",
   "metadata": {},
   "source": [
    "#### Initial State:\n",
    "\n",
    "* List: [47, 11, 42, 13]\n",
    "\n",
    "* reduce starts by taking the first two elements of the list.\n",
    "\n",
    "\n",
    "#### First Iteration:\n",
    "\n",
    "* x = 47, y = 11\n",
    "* x + y = 47 + 11 = 58\n",
    "* Intermediate result: 58\n",
    "\n",
    "\n",
    "#### Second Iteration:\n",
    "\n",
    "* x = 58 (result of the first iteration), y = 42\n",
    "* x + y = 58 + 42 = 100\n",
    "* Intermediate result: 100\n",
    "\n",
    "\n",
    "#### Third Iteration:\n",
    "\n",
    "* x = 100 (result of the second iteration), y = 13\n",
    "* x + y = 100 + 13 = 113\n",
    "* Final result: 113"
   ]
  },
  {
   "cell_type": "markdown",
   "metadata": {},
   "source": []
  },
  {
   "cell_type": "markdown",
   "metadata": {},
   "source": [
    "1. Write a Python function that takes a list of numbers as input and returns the sum of all even numbers in the list."
   ]
  },
  {
   "cell_type": "code",
   "execution_count": 4,
   "metadata": {},
   "outputs": [
    {
     "name": "stdout",
     "output_type": "stream",
     "text": [
      "12\n"
     ]
    }
   ],
   "source": [
    "def sum_of_even_numbers(numbers):\n",
    "  \"\"\"Calculates the sum of even numbers in a list.\"\"\"\n",
    "  even_sum = 0\n",
    "  for num in numbers:\n",
    "    if num % 2 == 0:\n",
    "      even_sum += num\n",
    "  return even_sum\n",
    "\n",
    "numbers = [1, 2, 3, 4, 5, 6]\n",
    "print(sum_of_even_numbers(numbers))\n"
   ]
  },
  {
   "cell_type": "markdown",
   "metadata": {},
   "source": [
    "2. Create a Python function that accepts a string and returns the reverse of that string."
   ]
  },
  {
   "cell_type": "code",
   "execution_count": 9,
   "metadata": {},
   "outputs": [
    {
     "data": {
      "text/plain": [
       "'ahcoR notsileV'"
      ]
     },
     "execution_count": 9,
     "metadata": {},
     "output_type": "execute_result"
    }
   ],
   "source": [
    "def reverse_string(string):\n",
    "  \"\"\"Reverses a given string.\"\"\"\n",
    "  return string[::-1]\n",
    "\n",
    "name = \"Veliston Rocha\"\n",
    "\n",
    "reverse_string(name)"
   ]
  },
  {
   "cell_type": "markdown",
   "metadata": {},
   "source": [
    "3. Implement a Python function that takes a list of integers and returns a new list containing the squares of each number."
   ]
  },
  {
   "cell_type": "code",
   "execution_count": 10,
   "metadata": {},
   "outputs": [
    {
     "data": {
      "text/plain": [
       "[1, 9, 25, 49, 81]"
      ]
     },
     "execution_count": 10,
     "metadata": {},
     "output_type": "execute_result"
    }
   ],
   "source": [
    "def square_list(numbers):\n",
    "  \"\"\"Squares each number in a list and returns a new list.\"\"\"\n",
    "  squared_list = [num ** 2 for num in numbers]\n",
    "  return squared_list\n",
    "\n",
    "num = [1,3,5,7,9]\n",
    "square_list(num)"
   ]
  },
  {
   "cell_type": "markdown",
   "metadata": {},
   "source": [
    "4. Write a Python function that checks if a given number is prime or not from 1 to 200."
   ]
  },
  {
   "cell_type": "code",
   "execution_count": 8,
   "metadata": {},
   "outputs": [
    {
     "data": {
      "text/plain": [
       "True"
      ]
     },
     "execution_count": 8,
     "metadata": {},
     "output_type": "execute_result"
    }
   ],
   "source": [
    "def is_prime(num):\n",
    "  \"\"\"Checks if a number is prime.\"\"\"\n",
    "  if num <= 1:\n",
    "    return False\n",
    "  if num <= 3:\n",
    "    return True\n",
    "  if num % 2 == 0 or num % 3 == 0:\n",
    "    return False\n",
    "  i = 5\n",
    "  while i * i <= num:\n",
    "    if num % i == 0 or num % (i + 2) == 0:\n",
    "      return False\n",
    "    i += 6\n",
    "  return True\n",
    "\n",
    "is_prime(17)\n"
   ]
  },
  {
   "cell_type": "markdown",
   "metadata": {},
   "source": [
    "5. Create an iterator class in Python that generates the Fibonacci sequence up to a specified number of terms."
   ]
  },
  {
   "cell_type": "code",
   "execution_count": 26,
   "metadata": {},
   "outputs": [
    {
     "name": "stdout",
     "output_type": "stream",
     "text": [
      "0\n",
      "1\n",
      "1\n",
      "2\n",
      "3\n",
      "5\n",
      "8\n",
      "13\n",
      "21\n",
      "34\n"
     ]
    }
   ],
   "source": [
    "class FibonacciIterator:\n",
    "    \"\"\"Generates the Fibonacci sequence.\"\"\"\n",
    "\n",
    "    def __init__(self, num_terms):\n",
    "        self.num_terms = num_terms \n",
    "        self.current_term = 0  \n",
    "        self.next_term = 1 \n",
    "\n",
    "    def __iter__(self):\n",
    "        return self  \n",
    "\n",
    "    def __next__(self):\n",
    "        if self.num_terms <= 0:\n",
    "            raise StopIteration  \n",
    "\n",
    "        result = self.current_term  \n",
    "        \n",
    "        self.current_term, self.next_term = self.next_term, self.current_term + self.next_term\n",
    "       \n",
    "        self.num_terms -= 1\n",
    "        \n",
    "        return result\n",
    "\n",
    "\n",
    "fib_seq = FibonacciIterator(10)  \n",
    "\n",
    "for num in fib_seq:\n",
    "    print(num)\n",
    "\n",
    "\n"
   ]
  },
  {
   "cell_type": "markdown",
   "metadata": {},
   "source": [
    "6. Write a generator function in Python that yields the powers of 2 up to a given exponent."
   ]
  },
  {
   "cell_type": "code",
   "execution_count": 24,
   "metadata": {},
   "outputs": [
    {
     "name": "stdout",
     "output_type": "stream",
     "text": [
      "Powers of 2 up to 2^10:\n",
      "1\n",
      "2\n",
      "4\n",
      "8\n",
      "16\n",
      "32\n",
      "64\n",
      "128\n",
      "256\n",
      "512\n",
      "1024\n"
     ]
    }
   ],
   "source": [
    "def powers_of_two(exponent):\n",
    "  \"\"\"Generates powers of 2 up to a given exponent.\"\"\"\n",
    "  base = 2\n",
    "  for i in range(exponent + 1):\n",
    "    yield base ** i\n",
    "\n",
    "expo = 10\n",
    "print(f\"Powers of 2 up to 2^{expo}:\")\n",
    "for value in powers_of_two(expo):\n",
    "    print(value)"
   ]
  },
  {
   "cell_type": "markdown",
   "metadata": {},
   "source": [
    "7. Implement a generator function that reads a file line by line and yields each line as a string."
   ]
  },
  {
   "cell_type": "code",
   "execution_count": 23,
   "metadata": {},
   "outputs": [
    {
     "name": "stdout",
     "output_type": "stream",
     "text": [
      "Python is a popular programming language.\n",
      "\n",
      "Python can be used on a server to create web applications.\n"
     ]
    }
   ],
   "source": [
    "def read_file(filepath):\n",
    "    \"\"\"Read file line by line.\"\"\"\n",
    "    try:\n",
    "        with open(filepath, 'r') as file:\n",
    "            for line in file:\n",
    "                yield line.strip()\n",
    "    except FileNotFoundError:\n",
    "        print(f\"The file at {filepath} was not found.\")\n",
    "    except Exception as e:\n",
    "        print(f\"An error occurred: {e}\")\n",
    "\n",
    "for line in read_file('example.txt'):\n",
    "    print(line)"
   ]
  },
  {
   "cell_type": "markdown",
   "metadata": {},
   "source": [
    "8. Use a lambda function in Python to sort a list of tuples based on the second element of each tuple."
   ]
  },
  {
   "cell_type": "code",
   "execution_count": 1,
   "metadata": {},
   "outputs": [
    {
     "name": "stdout",
     "output_type": "stream",
     "text": [
      "[(4, 2), (1, 3), (2, 5)]\n"
     ]
    }
   ],
   "source": [
    "tuples_list = [(1, 3), (4, 2), (2, 5)]\n",
    "sorted_tuples = sorted(tuples_list, key=lambda x: x[1])\n",
    "print(sorted_tuples)  \n"
   ]
  },
  {
   "cell_type": "markdown",
   "metadata": {},
   "source": [
    "9. Write a Python program that uses map() to convert a list of temperatures from Celsius to Fahrenheit."
   ]
  },
  {
   "cell_type": "code",
   "execution_count": 37,
   "metadata": {},
   "outputs": [
    {
     "name": "stdout",
     "output_type": "stream",
     "text": [
      "[77.0, 86.0, 95.0]\n"
     ]
    }
   ],
   "source": [
    "def celsius_to_fahrenheit(celsius):\n",
    "  \"\"\"Converts Celsius to Fahrenheit.\"\"\"\n",
    "  return (celsius * 9/5) + 32\n",
    "\n",
    "temperatures_celsius = [25, 30, 35]\n",
    "temperatures_fahrenheit = list(map(celsius_to_fahrenheit, temperatures_celsius))\n",
    "print(temperatures_fahrenheit)\n"
   ]
  },
  {
   "cell_type": "markdown",
   "metadata": {},
   "source": [
    "10. Create a Python program that uses 'filter()' to remove all the vowels from a given string."
   ]
  },
  {
   "cell_type": "code",
   "execution_count": 38,
   "metadata": {},
   "outputs": [
    {
     "name": "stdout",
     "output_type": "stream",
     "text": [
      "Hll, Wrld!\n"
     ]
    }
   ],
   "source": [
    "def remove_vowels(char):\n",
    "  \"\"\"Removes vowels from a character.\"\"\"\n",
    "  vowels = 'aeiouAEIOU'\n",
    "  return char not in vowels\n",
    "\n",
    "string = \"Hello, World!\"\n",
    "without_vowels = ''.join(filter(remove_vowels, string))\n",
    "print(without_vowels)\n"
   ]
  },
  {
   "cell_type": "markdown",
   "metadata": {},
   "source": [
    "11. Accounting Routine for Book Shop:"
   ]
  },
  {
   "cell_type": "code",
   "execution_count": 18,
   "metadata": {},
   "outputs": [
    {
     "name": "stdout",
     "output_type": "stream",
     "text": [
      "[('34587', 163.8), ('98762', 284.0), ('77226', 108.85000000000001), ('88112', 84.97)]\n",
      "--------------------------------------------------\n",
      "--------------------------------------------------\n",
      "Order Summary:\n",
      "--------------------------------------------------\n",
      "Order Number   Total Amount (€)\n",
      "--------------------------------------------------\n",
      "34587          163.80         \n",
      "98762          284.00         \n",
      "77226          108.85         \n",
      "88112          84.97          \n",
      "--------------------------------------------------\n"
     ]
    }
   ],
   "source": [
    "orders = [\n",
    "    [\"34587\", \"Learning Python\", \"Mark Lutz\", 4, 40.95],\n",
    "    [\"98762\", \"Programming Python\", \"Mark Lutz\", 5, 56.80],\n",
    "    [\"77226\", \"Head First Python\", \"Paul Barry\", 3, 32.95],\n",
    "    [\"88112\", \"Einfuhrung in Python3\", \"Bernd Klein\", 3, 24.99]\n",
    "]\n",
    "\n",
    "order_summary = list(map(lambda x: (x[0], x[3] * x[4] + 10 if x[3] * x[4] < 100 else x[3] * x[4]), orders))\n",
    "\n",
    "print(order_summary)\n",
    "\n",
    "print(\"-\" * 50)\n",
    "print(\"-\" * 50)\n",
    "print(\"Order Summary:\")\n",
    "print(\"-\" * 50)\n",
    "print(f\"{'Order Number':<15}{'Total Amount (€)':<15}\")\n",
    "print(\"-\" * 50)\n",
    "\n",
    "for order in order_summary:\n",
    "    order_number, total_amount = order\n",
    "    print(f\"{order_number:<15}{total_amount:<15.2f}\")\n",
    "\n",
    "print(\"-\" * 50)"
   ]
  }
 ],
 "metadata": {
  "kernelspec": {
   "display_name": "Python 3",
   "language": "python",
   "name": "python3"
  },
  "language_info": {
   "codemirror_mode": {
    "name": "ipython",
    "version": 3
   },
   "file_extension": ".py",
   "mimetype": "text/x-python",
   "name": "python",
   "nbconvert_exporter": "python",
   "pygments_lexer": "ipython3",
   "version": "3.12.2"
  }
 },
 "nbformat": 4,
 "nbformat_minor": 2
}
