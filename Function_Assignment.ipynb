{
 "cells": [
  {
   "cell_type": "markdown",
   "metadata": {},
   "source": [
    "# 1. What is the difference between a function and a method in Python?"
   ]
  },
  {
   "cell_type": "markdown",
   "metadata": {},
   "source": [
    "### Function\n",
    "\n",
    "> A function is a block of reusable code that performs specific task and can be called independently.\n",
    "\n",
    "> Function are defined using the 'def' Keyword.\n",
    "\n",
    "> Functions can be difined outside of classes and can be called by their name, with or without arguments."
   ]
  },
  {
   "cell_type": "code",
   "execution_count": 5,
   "metadata": {},
   "outputs": [
    {
     "name": "stdout",
     "output_type": "stream",
     "text": [
      "Hello, Veliston!\n",
      "Hello, Rocha!\n",
      "Hello, Rodrigues!\n"
     ]
    }
   ],
   "source": [
    "# Example:\n",
    "\n",
    "def greet(name): # parameter\n",
    "    return f\"Hello, {name}!\"\n",
    "\n",
    "# calling or invokig function\n",
    "# u can call function as many times\n",
    "Person1 = greet(\"Veliston\")# argument\n",
    "Person2 = greet(\"Rocha\")\n",
    "Person3 = greet(\"Rodrigues\")\n",
    "\n",
    "print(Person1)\n",
    "print(Person2)\n",
    "print(Person3)"
   ]
  },
  {
   "cell_type": "markdown",
   "metadata": {},
   "source": [
    "### Method\n",
    "\n",
    "> A method is a function that is associated with an object or class. It operates on the data within the class. (object or instance)\n",
    "\n",
    ">Methods are defined within a class and usually take ' self ' as their parameter to acsess the instance of the class.\n",
    "\n",
    "> Methods are called on an instance of a class or on the class itself"
   ]
  },
  {
   "cell_type": "code",
   "execution_count": 7,
   "metadata": {},
   "outputs": [
    {
     "name": "stdout",
     "output_type": "stream",
     "text": [
      "Hello, Veliston!\n"
     ]
    }
   ],
   "source": [
    "# Example:\n",
    "\n",
    "class Greeter:\n",
    "    def __init__(self, name): # called automaticaly\n",
    "        self.name = name\n",
    "\n",
    "    def greet(self): # called maually\n",
    "        return f\"Hello, {self.name}!\"\n",
    "\n",
    "g = Greeter(\"Veliston\")\n",
    "print(g.greet())  \n",
    "\n",
    "# greeter is class\n",
    "# __init__ and greet are methods\n",
    "# name is attribute\n"
   ]
  },
  {
   "cell_type": "markdown",
   "metadata": {},
   "source": [
    "# 2. Explain the concept of function arguments and parameters in python.**"
   ]
  },
  {
   "cell_type": "markdown",
   "metadata": {},
   "source": [
    "### Parameters\n",
    "\n",
    "> Parameters are variables listed in a function's definition that act as placeholders for the values that will be passed to the function when it is called.\n",
    "\n",
    "> They define what kind of values the function expects to receive."
   ]
  },
  {
   "cell_type": "code",
   "execution_count": 9,
   "metadata": {},
   "outputs": [],
   "source": [
    "# example:\n",
    "\n",
    "def add(a, b):\n",
    "    return a + b\n",
    "\n",
    "# a and b are parameters of the ' add ' function"
   ]
  },
  {
   "cell_type": "markdown",
   "metadata": {},
   "source": [
    "### Arguments\n",
    "\n",
    "> Arguments are the actual values or expressions passed to a function when it is called. They are assigned to the corresponding parameters in the function definition.\n",
    "\n",
    "> They provide the actual data for the function to work with."
   ]
  },
  {
   "cell_type": "code",
   "execution_count": 10,
   "metadata": {},
   "outputs": [],
   "source": [
    "# example:\n",
    "\n",
    "result = add(5,3)\n",
    "\n",
    "# 5 and 3 are arguments passed to the ' add ' function.\n",
    "# They are assigned to the parameters a and b respectively."
   ]
  },
  {
   "cell_type": "markdown",
   "metadata": {},
   "source": [
    "# 3. What are the differnt ways to define and call a function in Python?"
   ]
  },
  {
   "cell_type": "markdown",
   "metadata": {},
   "source": [
    "### Defining and Calling a Standard Function\n",
    "\n",
    "> using def keyword to define a function with a specific name and parameters.\n",
    "\n",
    "> after that calling or invoking the function with arguments."
   ]
  },
  {
   "cell_type": "code",
   "execution_count": 11,
   "metadata": {},
   "outputs": [
    {
     "name": "stdout",
     "output_type": "stream",
     "text": [
      "Hello, Veliston Rocha!\n"
     ]
    }
   ],
   "source": [
    "# Defining\n",
    "def greet(name):\n",
    "    return f\"Hello, {name}!\"\n",
    "\n",
    "# Calling\n",
    "print(greet(\"Veliston Rocha\"))"
   ]
  },
  {
   "cell_type": "markdown",
   "metadata": {},
   "source": [
    "### Lambda Functions\n",
    "\n",
    "> Lambda functions are small, unknown functions defined using the 'lambda' keyword. often used for short fuctions.\n",
    "\n",
    "> calling with arguments"
   ]
  },
  {
   "cell_type": "code",
   "execution_count": 13,
   "metadata": {},
   "outputs": [
    {
     "name": "stdout",
     "output_type": "stream",
     "text": [
      "8\n"
     ]
    }
   ],
   "source": [
    "# defining\n",
    "add = lambda x, y: x + y\n",
    "\n",
    "# calling\n",
    "print(add(5, 3)) \n"
   ]
  },
  {
   "cell_type": "markdown",
   "metadata": {},
   "source": [
    "### Functions with Default Arguments\n",
    "\n",
    "> Functions that have default values for some parameters. If no argument is provided the default value is used.\n",
    "\n",
    "> u can omit or dont provide argument that have default values."
   ]
  },
  {
   "cell_type": "code",
   "execution_count": 15,
   "metadata": {},
   "outputs": [
    {
     "name": "stdout",
     "output_type": "stream",
     "text": [
      "Hello, Person!\n",
      "Hello, Veliston!\n"
     ]
    }
   ],
   "source": [
    "def greet(name=\"Person\"):\n",
    "    return f\"Hello, {name}!\"\n",
    "\n",
    "print(greet())         # Uses default parameter argument\n",
    "print(greet(\"Veliston\"))   # Uses provided parameter argument\n",
    "\n"
   ]
  },
  {
   "cell_type": "markdown",
   "metadata": {},
   "source": [
    "### Variable-Length Arguments\n",
    "\n",
    "> These allow you to pass a variable number of arguments to a function.\n",
    "\n",
    "> *args: Collects positional arguments into a tuple.\n",
    "\n",
    "> **kwargs: Collects keyword arguments into a dictionary."
   ]
  },
  {
   "cell_type": "code",
   "execution_count": 16,
   "metadata": {},
   "outputs": [
    {
     "name": "stdout",
     "output_type": "stream",
     "text": [
      "10\n",
      "{'name': 'Veliston', 'age': 21}\n"
     ]
    }
   ],
   "source": [
    "# args\n",
    "def summarize(*args):\n",
    "    return sum(args)\n",
    "\n",
    "# kwargs\n",
    "def describe(**kwargs):\n",
    "    return kwargs\n",
    "\n",
    "print(summarize(1, 2, 3, 4)) \n",
    "print(describe(name=\"Veliston\", age=21))"
   ]
  },
  {
   "cell_type": "code",
   "execution_count": 17,
   "metadata": {},
   "outputs": [
    {
     "name": "stdout",
     "output_type": "stream",
     "text": [
      "Hello Veliston, you are 28 years old.\n",
      "Hello Rocha, you are 20 years old.\n"
     ]
    }
   ],
   "source": [
    "# Positional Arguments:\n",
    "\n",
    "def greet(name, age):\n",
    "    return f\"Hello {name}, you are {age} years old.\"\n",
    "\n",
    "print(greet(\"Veliston\", 28))\n",
    "\n",
    "# Keyword Arguments:\n",
    "\n",
    "print(greet(age=20, name=\"Rocha\")) "
   ]
  },
  {
   "cell_type": "code",
   "execution_count": 18,
   "metadata": {},
   "outputs": [
    {
     "name": "stdout",
     "output_type": "stream",
     "text": [
      "9\n"
     ]
    }
   ],
   "source": [
    "#  Function Expressions\n",
    "\n",
    "# functions can be assigned to variables\n",
    "\n",
    "def add(x, y):\n",
    "    return x + y\n",
    "\n",
    "# assifning function to variable\n",
    "operation = add\n",
    "\n",
    "print(operation(4, 5))\n"
   ]
  },
  {
   "cell_type": "markdown",
   "metadata": {},
   "source": [
    "### Nested Functions\n",
    "\n",
    "> Functions defined inside other functions. They can access variables from the enclosing function.\n"
   ]
  },
  {
   "cell_type": "code",
   "execution_count": 19,
   "metadata": {},
   "outputs": [
    {
     "name": "stdout",
     "output_type": "stream",
     "text": [
      "15\n"
     ]
    }
   ],
   "source": [
    "def outer_function(x): # oter\n",
    "    def inner_function(y): # inner\n",
    "        return x + y\n",
    "    return inner_function\n",
    "\n",
    "# calling\n",
    "func = outer_function(10)\n",
    "print(func(5))"
   ]
  },
  {
   "cell_type": "markdown",
   "metadata": {},
   "source": [
    "# 4. What is the purpose of the ' return ' statement in a python function?"
   ]
  },
  {
   "cell_type": "markdown",
   "metadata": {},
   "source": [
    "> The '  return  ' statement is used in a function to send a value back to the caller of the function. "
   ]
  },
  {
   "cell_type": "code",
   "execution_count": 23,
   "metadata": {},
   "outputs": [
    {
     "name": "stdout",
     "output_type": "stream",
     "text": [
      "8\n",
      "<class 'int'>\n"
     ]
    }
   ],
   "source": [
    "# example:\n",
    "\n",
    "def add_numbers(a, b):\n",
    "    result = a + b\n",
    "    return result #  with return statement\n",
    "\n",
    "sum_value = add_numbers(5, 3)\n",
    "print(sum_value)\n",
    "print(type(sum_value))"
   ]
  },
  {
   "cell_type": "code",
   "execution_count": 26,
   "metadata": {},
   "outputs": [
    {
     "name": "stdout",
     "output_type": "stream",
     "text": [
      "8\n",
      "None\n",
      "<class 'NoneType'>\n"
     ]
    }
   ],
   "source": [
    "# example\n",
    "# without return value\n",
    "\n",
    "def add_numbers(a, b):\n",
    "    result = a + b\n",
    "    print(result)\n",
    "\n",
    "sum_value = add_numbers(5, 3)\n",
    "print(sum_value)\n",
    "print(type(sum_value))\n",
    "\n",
    "# without return staement it return None"
   ]
  },
  {
   "cell_type": "markdown",
   "metadata": {},
   "source": [
    "# 5. What are iteration in Python and how do they differ from iterables?"
   ]
  },
  {
   "cell_type": "markdown",
   "metadata": {},
   "source": [
    "### Iterable:\n",
    "\n",
    "> An object that can return an iterator. Examples include lists, tuples, strings, dictionaries, and sets.\n",
    "\n",
    "> Must implement __iter__() method which returns an iterator.\n",
    "\n",
    "> Can be passed to functions like iter() to obtain an iterator."
   ]
  },
  {
   "cell_type": "markdown",
   "metadata": {},
   "source": [
    "### Iterator: \n",
    "\n",
    "> An object that represents a stream of data, it produces items one at a time and only once.\n",
    "\n",
    "> Must implement both __iter__() and __next__() methods.\n",
    "\n",
    "> Can be used in a loop (eg. for loop) to retrieve elements one at a time until the StopIteration exception is raised."
   ]
  },
  {
   "cell_type": "code",
   "execution_count": 4,
   "metadata": {},
   "outputs": [
    {
     "name": "stdout",
     "output_type": "stream",
     "text": [
      "1\n",
      "2\n",
      "3\n",
      "4\n",
      "End of iterator reached\n",
      "1\n",
      "2\n",
      "3\n",
      "4\n"
     ]
    }
   ],
   "source": [
    "# Iterable: list\n",
    "my_list = [1, 2, 3, 4]\n",
    "\n",
    "# iterator\n",
    "my_iterator = iter(my_list)\n",
    "\n",
    "# Iterate through the iterator\n",
    "print(next(my_iterator))\n",
    "print(next(my_iterator))\n",
    "print(next(my_iterator))\n",
    "print(next(my_iterator))\n",
    "\n",
    "# If we call next() again, it will raise StopIteration\n",
    "try:\n",
    "    print(next(my_iterator))\n",
    "except StopIteration:\n",
    "    print(\"End of iterator reached\")\n",
    "\n",
    "# Using  for loop to iterate over an iterable\n",
    "for item in my_list:\n",
    "    print(item)"
   ]
  },
  {
   "cell_type": "markdown",
   "metadata": {},
   "source": [
    "# 6. Explain the concept of generators in Python and how they are defined."
   ]
  },
  {
   "cell_type": "markdown",
   "metadata": {},
   "source": [
    ">Generators are a way to create iterators.\n",
    "\n",
    ">Instead of returning a single value and terminating like regular functions, generators yield values one at a time, pausing between each yield.\n",
    "\n",
    ">They are defined using the yield keyword instead of return.\n",
    "\n",
    "> They are memory efficient and can be used to iterate over large datasets."
   ]
  },
  {
   "cell_type": "code",
   "execution_count": 6,
   "metadata": {},
   "outputs": [
    {
     "name": "stdout",
     "output_type": "stream",
     "text": [
      "1\n",
      "2\n",
      "3\n"
     ]
    }
   ],
   "source": [
    "# Generator function\n",
    "\n",
    "def simple_generator():\n",
    "    yield 1\n",
    "    yield 2\n",
    "    yield 3\n",
    "\n",
    "gen = simple_generator()\n",
    "\n",
    "# Iterating generator\n",
    "print(next(gen))\n",
    "print(next(gen)) \n",
    "print(next(gen))  \n",
    "\n"
   ]
  },
  {
   "cell_type": "code",
   "execution_count": 7,
   "metadata": {},
   "outputs": [
    {
     "name": "stdout",
     "output_type": "stream",
     "text": [
      "1\n",
      "2\n",
      "3\n"
     ]
    }
   ],
   "source": [
    "# Generator with loop\n",
    "\n",
    "def simple_generator():\n",
    "    yield 1\n",
    "    yield 2\n",
    "    yield 3\n",
    "\n",
    "gen = simple_generator()\n",
    "\n",
    "# Iterating generator using a loop\n",
    "for value in gen:\n",
    "    print(value)"
   ]
  },
  {
   "cell_type": "code",
   "execution_count": 9,
   "metadata": {},
   "outputs": [
    {
     "name": "stdout",
     "output_type": "stream",
     "text": [
      "0\n",
      "1\n",
      "4\n"
     ]
    }
   ],
   "source": [
    "# Generator expression\n",
    "\n",
    "gen_expr = (x * x for x in range(3))\n",
    "\n",
    "# Iterating  generator\n",
    "print(next(gen_expr))\n",
    "print(next(gen_expr))\n",
    "print(next(gen_expr)) \n",
    "\n",
    "# it will cause error if  we run next(gen_expr) again"
   ]
  },
  {
   "cell_type": "markdown",
   "metadata": {},
   "source": [
    "# 7. What are the advantages of using generators over regular functions?"
   ]
  },
  {
   "cell_type": "markdown",
   "metadata": {},
   "source": [
    ">Memory Efficiency: Generators do not store the entire sequence in memory.\n",
    "\n",
    ">Lazy Evaluation: Values are computed only when needed.\n",
    "\n",
    ">Improved Performance: Reduced computation and faster startup times.\n",
    "\n",
    ">State Retention: Generators maintain their state between iterations.\n",
    "\n",
    ">Simpler Code: Easier to write and maintain complex iteration logic.\n",
    "\n",
    ">Pipeline Construction: Generators can be composed into efficient data processing pipelines."
   ]
  },
  {
   "cell_type": "code",
   "execution_count": 2,
   "metadata": {},
   "outputs": [
    {
     "data": {
      "text/plain": [
       "[0, 1, 4, 9, 16, 25, 36, 49, 64, 81, 100, 121, 144, 169, 196, 225, 256]"
      ]
     },
     "execution_count": 2,
     "metadata": {},
     "output_type": "execute_result"
    }
   ],
   "source": [
    "# using list\n",
    "def squares_list(n):\n",
    "    return [i**2 for i in range(n)]\n",
    "\n",
    "squares = squares_list(17)\n",
    "squares"
   ]
  },
  {
   "cell_type": "code",
   "execution_count": 31,
   "metadata": {},
   "outputs": [
    {
     "data": {
      "text/plain": [
       "<generator object squares_generator at 0x000002262FD7C2B0>"
      ]
     },
     "execution_count": 31,
     "metadata": {},
     "output_type": "execute_result"
    }
   ],
   "source": [
    "# using generator\n",
    "def squares_generator(n):\n",
    "    for i in range(n):\n",
    "        yield i**2\n",
    "\n",
    "squares = squares_generator(10000)\n",
    "squares"
   ]
  },
  {
   "cell_type": "markdown",
   "metadata": {},
   "source": [
    "# 8. What is lambda function in python and when is it typically used?"
   ]
  },
  {
   "cell_type": "markdown",
   "metadata": {},
   "source": [
    "A lambda function in Python is a small anonymous function defined with the lambda keyword. Lambda functions can have any number of arguments but can only have one expression. They are syntactically restricted to a single expression and are typically used for simple operations that can be written in one line."
   ]
  },
  {
   "cell_type": "markdown",
   "metadata": {},
   "source": [
    "Syntax\n",
    "\n",
    ">lambda arguments: expression"
   ]
  },
  {
   "cell_type": "code",
   "execution_count": 11,
   "metadata": {},
   "outputs": [
    {
     "name": "stdout",
     "output_type": "stream",
     "text": [
      "5\n"
     ]
    }
   ],
   "source": [
    "# example\n",
    "\n",
    "add = lambda x, y: x + y\n",
    "print(add(2, 3))"
   ]
  },
  {
   "cell_type": "markdown",
   "metadata": {},
   "source": [
    ">Lambda functions are typically used for short, simple functions that are used temporarily, often passed as arguments to higher-order functions."
   ]
  },
  {
   "cell_type": "code",
   "execution_count": 12,
   "metadata": {},
   "outputs": [
    {
     "name": "stdout",
     "output_type": "stream",
     "text": [
      "[2, 4, 6]\n"
     ]
    }
   ],
   "source": [
    "# Using filter() with a lambda function to filter a list:\n",
    "\n",
    "numbers = [1, 2, 3, 4, 5, 6]\n",
    "even_numbers = list(filter(lambda x: x % 2 == 0, numbers))\n",
    "print(even_numbers)"
   ]
  },
  {
   "cell_type": "code",
   "execution_count": 13,
   "metadata": {},
   "outputs": [
    {
     "name": "stdout",
     "output_type": "stream",
     "text": [
      "[1, 4, 9, 16]\n"
     ]
    }
   ],
   "source": [
    "# Using map() with a lambda function to transform a list:\n",
    "\n",
    "numbers = [1, 2, 3, 4]\n",
    "squared_numbers = list(map(lambda x: x ** 2, numbers))\n",
    "print(squared_numbers)\n"
   ]
  },
  {
   "cell_type": "markdown",
   "metadata": {},
   "source": [
    "9. Explain the purpose and usage of the map(), reduce() and filter() functions in python?"
   ]
  },
  {
   "cell_type": "markdown",
   "metadata": {},
   "source": [
    "### 1. map()\n",
    "\n",
    "Purpose: map() applies a given function to all items in an input list (or any other iterable) and returns an iterator of the results.\n",
    "\n",
    "\n",
    "Syntax\n",
    ">map(function, iterable,)\n",
    "\n",
    ">function: A function that takes one or more arguments.\n",
    "\n",
    ">iterable: One or more iterables."
   ]
  },
  {
   "cell_type": "code",
   "execution_count": 16,
   "metadata": {},
   "outputs": [
    {
     "name": "stdout",
     "output_type": "stream",
     "text": [
      "[1, 4, 9, 16]\n",
      "[5, 7, 9]\n"
     ]
    }
   ],
   "source": [
    "# Example: Squaring each number in a list\n",
    "\n",
    "numbers = [1, 2, 3, 4]\n",
    "squared_numbers = list(map(lambda x: x ** 2, numbers))\n",
    "print(squared_numbers) \n",
    "\n",
    "numbers1 = [1, 2, 3]\n",
    "numbers2 = [4, 5, 6]\n",
    "sum_numbers = list(map(lambda x, y: x + y, numbers1, numbers2))\n",
    "print(sum_numbers)  "
   ]
  },
  {
   "cell_type": "markdown",
   "metadata": {},
   "source": [
    "### 2. filter()\n",
    "\n",
    "Purpose: filter() constructs an iterator from elements of an iterable for which a function returns true.\n",
    "\n",
    "Syntax:\n",
    "\n",
    ">filter(function, iterable)\n",
    "\n",
    ">function: A function that takes one argument and returns a boolean.\n",
    "\n",
    ">iterable: The iterable to be filtered."
   ]
  },
  {
   "cell_type": "code",
   "execution_count": 17,
   "metadata": {},
   "outputs": [
    {
     "name": "stdout",
     "output_type": "stream",
     "text": [
      "[2, 4, 6]\n",
      "[1, 2, 3]\n"
     ]
    }
   ],
   "source": [
    "# Example: Filtering even numbers from a list\n",
    "numbers = [1, 2, 3, 4, 5, 6]\n",
    "even_numbers = list(filter(lambda x: x % 2 == 0, numbers))\n",
    "print(even_numbers)  \n",
    "\n",
    "# Example: Filtering out non-positive numbers\n",
    "numbers = [-1, 0, 1, 2, 3]\n",
    "positive_numbers = list(filter(lambda x: x > 0, numbers))\n",
    "print(positive_numbers)  \n"
   ]
  },
  {
   "cell_type": "markdown",
   "metadata": {},
   "source": [
    "### 2. reduce()\n",
    "\n",
    "Purpose: reduce() applies a rolling computation to sequential pairs of values in an iterable, effectively reducing the iterable to a single cumulative value. It is part of the functools module.\n",
    "\n",
    "Syntax:\n",
    "\n",
    ">functools.reduce(function, iterable[, initializer])\n",
    "\n",
    ">function: A function that takes two arguments.\n",
    "\n",
    ">iterable: The iterable to be reduced.\n",
    "\n",
    ">initializer: (Optional) Initial value for the accumulator.\n",
    "\n"
   ]
  },
  {
   "cell_type": "code",
   "execution_count": 18,
   "metadata": {},
   "outputs": [
    {
     "name": "stdout",
     "output_type": "stream",
     "text": [
      "24\n",
      "20\n"
     ]
    }
   ],
   "source": [
    "from functools import reduce\n",
    "\n",
    "# Example: Calculating the product of all numbers in a list\n",
    "numbers = [1, 2, 3, 4]\n",
    "product = reduce(lambda x, y: x * y, numbers)\n",
    "print(product)\n",
    "\n",
    "# Example: Summing all numbers in a list \n",
    "total = reduce(lambda x, y: x + y, numbers, 10)\n",
    "print(total)\n"
   ]
  },
  {
   "cell_type": "markdown",
   "metadata": {},
   "source": [
    "10. What is the difference between map(), reduce() and filter() functions in python?"
   ]
  },
  {
   "cell_type": "markdown",
   "metadata": {},
   "source": [
    "### map()\n",
    "\n",
    "Key Points:\n",
    "\n",
    ">Transforms each element in the iterable.\n",
    "\n",
    ">The function is applied to each element individually.\n",
    "\n",
    ">The resulting iterable has the same number of elements as the original."
   ]
  },
  {
   "cell_type": "code",
   "execution_count": 19,
   "metadata": {},
   "outputs": [
    {
     "name": "stdout",
     "output_type": "stream",
     "text": [
      "[1, 4, 9, 16, 25, 36]\n"
     ]
    }
   ],
   "source": [
    "numbers = [1, 2, 3, 4, 5, 6]\n",
    "squared_numbers = list(map(lambda x: x ** 2, numbers))\n",
    "print(squared_numbers) "
   ]
  },
  {
   "cell_type": "markdown",
   "metadata": {},
   "source": [
    "### reduce()\n",
    "\n",
    "Key Points:\n",
    "\n",
    ">Combines elements of the iterable into a single value.\n",
    "\n",
    ">The function takes two arguments: an accumulator and the next item in the sequence.\n",
    "\n",
    ">Typically used for operations like summing, multiplying, or finding the greatest common divisor."
   ]
  },
  {
   "cell_type": "code",
   "execution_count": 20,
   "metadata": {},
   "outputs": [
    {
     "name": "stdout",
     "output_type": "stream",
     "text": [
      "720\n"
     ]
    }
   ],
   "source": [
    "from functools import reduce\n",
    "numbers = [1, 2, 3, 4, 5, 6]\n",
    "product = reduce(lambda x, y: x * y, numbers)\n",
    "print(product)"
   ]
  },
  {
   "cell_type": "markdown",
   "metadata": {},
   "source": [
    "### filter()\n",
    "\n",
    "Key Points:\n",
    "\n",
    ">Selects elements based on a condition.\n",
    "\n",
    ">The function is a predicate that returns True or False.\n",
    "\n",
    ">The resulting iterable may have fewer elements than the original."
   ]
  },
  {
   "cell_type": "code",
   "execution_count": 21,
   "metadata": {},
   "outputs": [
    {
     "name": "stdout",
     "output_type": "stream",
     "text": [
      "[2, 4, 6]\n"
     ]
    }
   ],
   "source": [
    "numbers = [1, 2, 3, 4, 5, 6]\n",
    "even_numbers = list(filter(lambda x: x % 2 == 0, numbers))\n",
    "print(even_numbers)"
   ]
  },
  {
   "cell_type": "markdown",
   "metadata": {},
   "source": [
    "11. Using pen & paper write the internal mechanism for sum operating using reduce function on this given list: [47,11,42,13];"
   ]
  },
  {
   "cell_type": "code",
   "execution_count": 2,
   "metadata": {},
   "outputs": [
    {
     "data": {
      "text/plain": [
       "113"
      ]
     },
     "execution_count": 2,
     "metadata": {},
     "output_type": "execute_result"
    }
   ],
   "source": [
    "# Import the reduce function:\n",
    "\n",
    "from functools import reduce\n",
    "\n",
    "\n",
    "# Define the list:\n",
    "\n",
    "numbers = [47, 11, 42, 13]\n",
    "\n",
    "\n",
    "# Use reduce with a lambda function to sum the list:\n",
    "\n",
    "result = reduce(lambda x, y: x + y, numbers)\n",
    "\n",
    "result"
   ]
  },
  {
   "cell_type": "markdown",
   "metadata": {},
   "source": [
    "#### Initial State:\n",
    "\n",
    "* List: [47, 11, 42, 13]\n",
    "\n",
    "* reduce starts by taking the first two elements of the list.\n",
    "\n",
    "\n",
    "#### First Iteration:\n",
    "\n",
    "* x = 47, y = 11\n",
    "* x + y = 47 + 11 = 58\n",
    "* Intermediate result: 58\n",
    "\n",
    "\n",
    "#### Second Iteration:\n",
    "\n",
    "* x = 58 (result of the first iteration), y = 42\n",
    "* x + y = 58 + 42 = 100\n",
    "* Intermediate result: 100\n",
    "\n",
    "\n",
    "#### Third Iteration:\n",
    "\n",
    "* x = 100 (result of the second iteration), y = 13\n",
    "* x + y = 100 + 13 = 113\n",
    "* Final result: 113"
   ]
  },
  {
   "cell_type": "markdown",
   "metadata": {},
   "source": []
  },
  {
   "cell_type": "markdown",
   "metadata": {},
   "source": [
    "# Practical Questions"
   ]
  },
  {
   "cell_type": "markdown",
   "metadata": {},
   "source": [
    "1. Write a Python function that takes a list of numbers as input and returns the sum of all even numbers in the list."
   ]
  },
  {
   "cell_type": "code",
   "execution_count": 4,
   "metadata": {},
   "outputs": [
    {
     "name": "stdout",
     "output_type": "stream",
     "text": [
      "12\n"
     ]
    }
   ],
   "source": [
    "def sum_of_even_numbers(numbers):\n",
    "  \"\"\"Calculates the sum of even numbers in a list.\"\"\"\n",
    "  even_sum = 0\n",
    "  for num in numbers:\n",
    "    if num % 2 == 0:\n",
    "      even_sum += num\n",
    "  return even_sum\n",
    "\n",
    "numbers = [1, 2, 3, 4, 5, 6]\n",
    "print(sum_of_even_numbers(numbers))\n"
   ]
  },
  {
   "cell_type": "markdown",
   "metadata": {},
   "source": [
    "2. Create a Python function that accepts a string and returns the reverse of that string."
   ]
  },
  {
   "cell_type": "code",
   "execution_count": 9,
   "metadata": {},
   "outputs": [
    {
     "data": {
      "text/plain": [
       "'ahcoR notsileV'"
      ]
     },
     "execution_count": 9,
     "metadata": {},
     "output_type": "execute_result"
    }
   ],
   "source": [
    "def reverse_string(string):\n",
    "  \"\"\"Reverses a given string.\"\"\"\n",
    "  return string[::-1]\n",
    "\n",
    "name = \"Veliston Rocha\"\n",
    "\n",
    "reverse_string(name)"
   ]
  },
  {
   "cell_type": "markdown",
   "metadata": {},
   "source": [
    "3. Implement a Python function that takes a list of integers and returns a new list containing the squares of each number."
   ]
  },
  {
   "cell_type": "code",
   "execution_count": 10,
   "metadata": {},
   "outputs": [
    {
     "data": {
      "text/plain": [
       "[1, 9, 25, 49, 81]"
      ]
     },
     "execution_count": 10,
     "metadata": {},
     "output_type": "execute_result"
    }
   ],
   "source": [
    "def square_list(numbers):\n",
    "  \"\"\"Squares each number in a list and returns a new list.\"\"\"\n",
    "  squared_list = [num ** 2 for num in numbers]\n",
    "  return squared_list\n",
    "\n",
    "num = [1,3,5,7,9]\n",
    "square_list(num)"
   ]
  },
  {
   "cell_type": "markdown",
   "metadata": {},
   "source": [
    "4. Write a Python function that checks if a given number is prime or not from 1 to 200."
   ]
  },
  {
   "cell_type": "code",
   "execution_count": 8,
   "metadata": {},
   "outputs": [
    {
     "data": {
      "text/plain": [
       "True"
      ]
     },
     "execution_count": 8,
     "metadata": {},
     "output_type": "execute_result"
    }
   ],
   "source": [
    "def is_prime(num):\n",
    "  \"\"\"Checks if a number is prime.\"\"\"\n",
    "  if num <= 1:\n",
    "    return False\n",
    "  if num <= 3:\n",
    "    return True\n",
    "  if num % 2 == 0 or num % 3 == 0:\n",
    "    return False\n",
    "  i = 5\n",
    "  while i * i <= num:\n",
    "    if num % i == 0 or num % (i + 2) == 0:\n",
    "      return False\n",
    "    i += 6\n",
    "  return True\n",
    "\n",
    "is_prime(17)\n"
   ]
  },
  {
   "cell_type": "markdown",
   "metadata": {},
   "source": [
    "5. Create an iterator class in Python that generates the Fibonacci sequence up to a specified number of terms."
   ]
  },
  {
   "cell_type": "code",
   "execution_count": 26,
   "metadata": {},
   "outputs": [
    {
     "name": "stdout",
     "output_type": "stream",
     "text": [
      "0\n",
      "1\n",
      "1\n",
      "2\n",
      "3\n",
      "5\n",
      "8\n",
      "13\n",
      "21\n",
      "34\n"
     ]
    }
   ],
   "source": [
    "class FibonacciIterator:\n",
    "    \"\"\"Generates the Fibonacci sequence.\"\"\"\n",
    "\n",
    "    def __init__(self, num_terms):\n",
    "        self.num_terms = num_terms \n",
    "        self.current_term = 0  \n",
    "        self.next_term = 1 \n",
    "\n",
    "    def __iter__(self):\n",
    "        return self  \n",
    "\n",
    "    def __next__(self):\n",
    "        if self.num_terms <= 0:\n",
    "            raise StopIteration  \n",
    "\n",
    "        result = self.current_term  \n",
    "        \n",
    "        self.current_term, self.next_term = self.next_term, self.current_term + self.next_term\n",
    "       \n",
    "        self.num_terms -= 1\n",
    "        \n",
    "        return result\n",
    "\n",
    "\n",
    "fib_seq = FibonacciIterator(10)  \n",
    "\n",
    "for num in fib_seq:\n",
    "    print(num)\n",
    "\n",
    "\n"
   ]
  },
  {
   "cell_type": "markdown",
   "metadata": {},
   "source": [
    "6. Write a generator function in Python that yields the powers of 2 up to a given exponent."
   ]
  },
  {
   "cell_type": "code",
   "execution_count": 24,
   "metadata": {},
   "outputs": [
    {
     "name": "stdout",
     "output_type": "stream",
     "text": [
      "Powers of 2 up to 2^10:\n",
      "1\n",
      "2\n",
      "4\n",
      "8\n",
      "16\n",
      "32\n",
      "64\n",
      "128\n",
      "256\n",
      "512\n",
      "1024\n"
     ]
    }
   ],
   "source": [
    "def powers_of_two(exponent):\n",
    "  \"\"\"Generates powers of 2 up to a given exponent.\"\"\"\n",
    "  base = 2\n",
    "  for i in range(exponent + 1):\n",
    "    yield base ** i\n",
    "\n",
    "expo = 10\n",
    "print(f\"Powers of 2 up to 2^{expo}:\")\n",
    "for value in powers_of_two(expo):\n",
    "    print(value)"
   ]
  },
  {
   "cell_type": "markdown",
   "metadata": {},
   "source": [
    "7. Implement a generator function that reads a file line by line and yields each line as a string."
   ]
  },
  {
   "cell_type": "code",
   "execution_count": 23,
   "metadata": {},
   "outputs": [
    {
     "name": "stdout",
     "output_type": "stream",
     "text": [
      "Python is a popular programming language.\n",
      "\n",
      "Python can be used on a server to create web applications.\n"
     ]
    }
   ],
   "source": [
    "def read_file(filepath):\n",
    "    \"\"\"Read file line by line.\"\"\"\n",
    "    try:\n",
    "        with open(filepath, 'r') as file:\n",
    "            for line in file:\n",
    "                yield line.strip()\n",
    "    except FileNotFoundError:\n",
    "        print(f\"The file at {filepath} was not found.\")\n",
    "    except Exception as e:\n",
    "        print(f\"An error occurred: {e}\")\n",
    "\n",
    "for line in read_file('example.txt'):\n",
    "    print(line)"
   ]
  },
  {
   "cell_type": "markdown",
   "metadata": {},
   "source": [
    "8. Use a lambda function in Python to sort a list of tuples based on the second element of each tuple."
   ]
  },
  {
   "cell_type": "code",
   "execution_count": 1,
   "metadata": {},
   "outputs": [
    {
     "name": "stdout",
     "output_type": "stream",
     "text": [
      "[(4, 2), (1, 3), (2, 5)]\n"
     ]
    }
   ],
   "source": [
    "tuples_list = [(1, 3), (4, 2), (2, 5)]\n",
    "sorted_tuples = sorted(tuples_list, key=lambda x: x[1])\n",
    "print(sorted_tuples)  \n"
   ]
  },
  {
   "cell_type": "markdown",
   "metadata": {},
   "source": [
    "9. Write a Python program that uses map() to convert a list of temperatures from Celsius to Fahrenheit."
   ]
  },
  {
   "cell_type": "code",
   "execution_count": 37,
   "metadata": {},
   "outputs": [
    {
     "name": "stdout",
     "output_type": "stream",
     "text": [
      "[77.0, 86.0, 95.0]\n"
     ]
    }
   ],
   "source": [
    "def celsius_to_fahrenheit(celsius):\n",
    "  \"\"\"Converts Celsius to Fahrenheit.\"\"\"\n",
    "  return (celsius * 9/5) + 32\n",
    "\n",
    "temperatures_celsius = [25, 30, 35]\n",
    "temperatures_fahrenheit = list(map(celsius_to_fahrenheit, temperatures_celsius))\n",
    "print(temperatures_fahrenheit)\n"
   ]
  },
  {
   "cell_type": "markdown",
   "metadata": {},
   "source": [
    "10. Create a Python program that uses 'filter()' to remove all the vowels from a given string."
   ]
  },
  {
   "cell_type": "code",
   "execution_count": 38,
   "metadata": {},
   "outputs": [
    {
     "name": "stdout",
     "output_type": "stream",
     "text": [
      "Hll, Wrld!\n"
     ]
    }
   ],
   "source": [
    "def remove_vowels(char):\n",
    "  \"\"\"Removes vowels from a character.\"\"\"\n",
    "  vowels = 'aeiouAEIOU'\n",
    "  return char not in vowels\n",
    "\n",
    "string = \"Hello, World!\"\n",
    "without_vowels = ''.join(filter(remove_vowels, string))\n",
    "print(without_vowels)\n"
   ]
  },
  {
   "cell_type": "markdown",
   "metadata": {},
   "source": [
    "11. Accounting Routine for Book Shop:"
   ]
  },
  {
   "cell_type": "code",
   "execution_count": 18,
   "metadata": {},
   "outputs": [
    {
     "name": "stdout",
     "output_type": "stream",
     "text": [
      "[('34587', 163.8), ('98762', 284.0), ('77226', 108.85000000000001), ('88112', 84.97)]\n",
      "--------------------------------------------------\n",
      "--------------------------------------------------\n",
      "Order Summary:\n",
      "--------------------------------------------------\n",
      "Order Number   Total Amount (€)\n",
      "--------------------------------------------------\n",
      "34587          163.80         \n",
      "98762          284.00         \n",
      "77226          108.85         \n",
      "88112          84.97          \n",
      "--------------------------------------------------\n"
     ]
    }
   ],
   "source": [
    "orders = [\n",
    "    [\"34587\", \"Learning Python\", \"Mark Lutz\", 4, 40.95],\n",
    "    [\"98762\", \"Programming Python\", \"Mark Lutz\", 5, 56.80],\n",
    "    [\"77226\", \"Head First Python\", \"Paul Barry\", 3, 32.95],\n",
    "    [\"88112\", \"Einfuhrung in Python3\", \"Bernd Klein\", 3, 24.99]\n",
    "]\n",
    "\n",
    "order_summary = list(map(lambda x: (x[0], x[3] * x[4] + 10 if x[3] * x[4] < 100 else x[3] * x[4]), orders))\n",
    "\n",
    "print(order_summary)\n",
    "\n",
    "print(\"-\" * 50)\n",
    "print(\"-\" * 50)\n",
    "print(\"Order Summary:\")\n",
    "print(\"-\" * 50)\n",
    "print(f\"{'Order Number':<15}{'Total Amount (€)':<15}\")\n",
    "print(\"-\" * 50)\n",
    "\n",
    "for order in order_summary:\n",
    "    order_number, total_amount = order\n",
    "    print(f\"{order_number:<15}{total_amount:<15.2f}\")\n",
    "\n",
    "print(\"-\" * 50)"
   ]
  }
 ],
 "metadata": {
  "kernelspec": {
   "display_name": "Python 3",
   "language": "python",
   "name": "python3"
  },
  "language_info": {
   "codemirror_mode": {
    "name": "ipython",
    "version": 3
   },
   "file_extension": ".py",
   "mimetype": "text/x-python",
   "name": "python",
   "nbconvert_exporter": "python",
   "pygments_lexer": "ipython3",
   "version": "3.12.2"
  }
 },
 "nbformat": 4,
 "nbformat_minor": 2
}
